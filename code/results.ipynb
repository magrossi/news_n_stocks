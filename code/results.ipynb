{
 "metadata": {
  "name": "",
  "signature": "sha256:73189d0afe2b6094fa3c3c00a164831d848a2d1c0baff35ea2643ac3fbcc5ff0"
 },
 "nbformat": 3,
 "nbformat_minor": 0,
 "worksheets": [
  {
   "cells": [
    {
     "cell_type": "code",
     "collapsed": false,
     "input": [
      "%matplotlib inline\n",
      "from scipy.stats import describe\n",
      "import pickle, datetime, numpy as np, pandas as pd, matplotlib, matplotlib.mlab as mlab, matplotlib.pyplot as plt\n",
      "from sklearn.metrics import mean_squared_error\n",
      "from math import sqrt\n",
      "matplotlib.style.use('ggplot')"
     ],
     "language": "python",
     "metadata": {},
     "outputs": [],
     "prompt_number": 1
    },
    {
     "cell_type": "code",
     "collapsed": false,
     "input": [
      "def load_fcast(stock_symbol):\n",
      "    return pickle.load(open(\"D:/Study/DCU/MCM/Practicum/data/\"+stock_symbol+\"_forecasts.pkl\", \"rb\"))\n",
      "\n",
      "def calc_rmse(fcasts):\n",
      "    test_index = pd.DatetimeIndex(fcasts['forecast_dates'], freq='D') #- datetime.timedelta(days=1)\n",
      "    forecasts = pd.DataFrame(fcasts['forecasts'], index=test_index)\n",
      "    actual = pd.DataFrame(fcasts['actual'])\n",
      "\n",
      "    rmse = {}\n",
      "    aligned = pd.concat([actual,forecasts], axis=1).dropna()\n",
      "    for f in aligned[1:]:\n",
      "        if f != actual.columns.values[0]:\n",
      "            rmse[f] = sqrt(mean_squared_error(pd.DataFrame(aligned.ix[:,0]), pd.DataFrame(aligned[f])))\n",
      "\n",
      "    return rmse\n",
      "    \n",
      "def calc_dir_corr(fcasts):\n",
      "    models = fcasts['models']\n",
      "    test_index = pd.DatetimeIndex(fcasts['forecast_dates'], freq='D') #- datetime.timedelta(days=1)\n",
      "    forecasts = pd.DataFrame(fcasts['forecasts'], index=test_index)\n",
      "    actual = pd.DataFrame(fcasts['actual'])\n",
      "    \n",
      "    actual_shift = actual.shift(1)\n",
      "    actual_sign = np.sign(actual - actual_shift)\n",
      "    \n",
      "    dir_correct = {}\n",
      "    total_forecasts = len(forecasts)\n",
      "    for k in forecasts.keys():#\n",
      "        # calculate array of True/False that says if directional prediction was correct or not    \n",
      "        correct = 0\n",
      "        for dt in forecasts.index:\n",
      "            s = np.sign(forecasts[dt:dt][k].as_matrix() - actual_shift[dt:dt].as_matrix())\n",
      "            a = actual_sign[dt:dt].as_matrix()\n",
      "            #print s == a\n",
      "            if s == a:\n",
      "               correct += 1\n",
      "        # for each key calculate the directional correctness percentage\n",
      "        dir_correct[k] = float(correct) / float(total_forecasts)\n",
      "\n",
      "    return dir_correct"
     ],
     "language": "python",
     "metadata": {},
     "outputs": [],
     "prompt_number": 2
    },
    {
     "cell_type": "code",
     "collapsed": false,
     "input": [
      "# generate directional correctness dictionary\n",
      "stock_terms = pickle.load(open(\"D:/Study/DCU/MCM/Practicum/data/stock_terms.pkl\", \"rb\"))\n",
      "stock_results = {}\n",
      "stock_rmse = {}\n",
      "for stock_symbol in stock_terms:\n",
      "    fcast = load_fcast(stock_symbol)\n",
      "    stock_results[stock_symbol] = calc_dir_corr(fcast)\n",
      "    stock_rmse[stock_symbol] = calc_rmse(fcast)\n",
      "pickle.dump(stock_results, open(\"D:/Study/DCU/MCM/Practicum/data/stock_results.pkl\", \"wb\"))"
     ],
     "language": "python",
     "metadata": {},
     "outputs": [],
     "prompt_number": 3
    },
    {
     "cell_type": "heading",
     "level": 1,
     "metadata": {},
     "source": [
      "Directional Correctness Results"
     ]
    },
    {
     "cell_type": "code",
     "collapsed": false,
     "input": [
      "# flatten the results dictionary\n",
      "flat_cdir_all = []\n",
      "flat_cdir_ind = []\n",
      "flat_cdir_agg = []\n",
      "flat_cdir_nex = []\n",
      "for (s, t) in stock_results.iteritems():\n",
      "    for (t1, v) in t.iteritems():\n",
      "        flat_cdir_all.append((':'.join([s,t1]), v))\n",
      "        if t1.find(',') >= 0:\n",
      "            flat_cdir_agg.append((':'.join([s,t1]), v))\n",
      "        elif t1.find('[') >= 0:\n",
      "            flat_cdir_nex.append((':'.join([s,t1]), v))\n",
      "        else:\n",
      "            flat_cdir_ind.append((':'.join([s,t1]), v))\n",
      "\n",
      "flat_cdir_all = sorted(flat_cdir_all, key=lambda x: x[1])\n",
      "flat_cdir_ind = sorted(flat_cdir_ind, key=lambda x: x[1])\n",
      "flat_cdir_agg = sorted(flat_cdir_agg, key=lambda x: x[1])\n",
      "flat_cdir_nex = sorted(flat_cdir_nex, key=lambda x: x[1])"
     ],
     "language": "python",
     "metadata": {},
     "outputs": [],
     "prompt_number": 15
    },
    {
     "cell_type": "code",
     "collapsed": false,
     "input": [
      "print 'Bottom 5:', flat_cdir_all[:5]\n",
      "print 'Top 5:', flat_cdir_all[-5:]"
     ],
     "language": "python",
     "metadata": {},
     "outputs": [
      {
       "output_type": "stream",
       "stream": "stdout",
       "text": [
        "Bottom 5: [(u'CAT:firm,quarter,board,compound', 0.35294117647058826), (u'KO:money', 0.35294117647058826), (u'KO:louis', 0.35294117647058826), (u'KO:thursday', 0.35294117647058826), (u'KO:jiang,louis,thursday,fund,officer,money,maliki', 0.35294117647058826)]\n",
        "Top 5: [(u'VZ:right,financial,chinese,power,profit,share,could,church,percent,high yield,sale,protest,protester,year,medicine,news,unit', 0.6029411764705882), (u'PFE:sale', 0.6029411764705882), (u'PFE:quarter,political,sale', 0.6176470588235294), (u'PFE:quarter', 0.6323529411764706), ('PFE:[PFE]', 0.6323529411764706)]\n"
       ]
      }
     ],
     "prompt_number": 16
    },
    {
     "cell_type": "heading",
     "level": 1,
     "metadata": {},
     "source": [
      "# describe the statistics of the results\n",
      "flat_cdir_val_all = map(lambda x: x[1], flat_cdir_all)\n",
      "flat_cdir_val_ind = map(lambda x: x[1], flat_cdir_ind)\n",
      "flat_cdir_val_agg = map(lambda x: x[1], flat_cdir_agg)\n",
      "flat_cdir_val_nex = map(lambda x: x[1], flat_cdir_nex)\n",
      "\n",
      "print 'Directional Correctness All', describe(flat_cdir_val_all)\n",
      "print 'Directional Correctness Ind', describe(flat_cdir_val_ind)\n",
      "print 'Directional Correctness Agg', describe(flat_cdir_val_agg)\n",
      "print 'Directional Correctness NoEx', describe(flat_cdir_val_nex)\n",
      "\n",
      "# plot\n",
      "dir_cor_all = pd.DataFrame({ 'DC:All': flat_cdir_val_all });\n",
      "dir_cor_ind = pd.DataFrame({ 'DC:Ind': flat_cdir_val_ind });\n",
      "dir_cor_agg = pd.DataFrame({ 'DC:Agg': flat_cdir_val_agg });\n",
      "dir_cor_nex = pd.DataFrame({ 'DC:NoEx': flat_cdir_val_nex });\n",
      "\n",
      "# fig, (ax1, ax2, ax3, ax4) = plt.subplots(4)\n",
      "fig, (ax2, ax3, ax4) = plt.subplots(3)\n",
      "# dir_cor_all.plot(ax=ax1)\n",
      "dir_cor_ind.plot(ax=ax2, color='blue')\n",
      "dir_cor_agg.plot(ax=ax3, color='green')\n",
      "dir_cor_nex.plot(ax=ax4, color='black')\n",
      "ax2.xaxis.set_visible(False)\n",
      "ax3.xaxis.set_visible(False)\n",
      "ax4.xaxis.set_visible(False)\n",
      "plt.show()"
     ]
    },
    {
     "cell_type": "code",
     "collapsed": false,
     "input": [
      "# fig, (ax1, ax2, ax3, ax4) = plt.subplots(4)\n",
      "fig, (ax2, ax3, ax4) = plt.subplots(3)\n",
      "# dir_cor_all.hist(bins=5, ax=ax1)\n",
      "dir_cor_ind.hist(bins=5, ax=ax2, color='blue')\n",
      "dir_cor_agg.hist(bins=5, ax=ax3, color='green')\n",
      "dir_cor_nex.hist(bins=5, ax=ax4, color='black')\n",
      "# ax1.xaxis.set_visible(False)\n",
      "ax2.xaxis.set_visible(False)\n",
      "ax3.xaxis.set_visible(False)\n",
      "ax4.xaxis.set_visible(True)\n",
      "plt.show()\n"
     ],
     "language": "python",
     "metadata": {},
     "outputs": [
      {
       "metadata": {},
       "output_type": "display_data",
       "png": "[encoded data removed]",
       "text": [
        "<matplotlib.figure.Figure at 0xf354a90>"
       ]
      }
     ],
     "prompt_number": 60
    },
    {
     "cell_type": "heading",
     "level": 1,
     "metadata": {},
     "source": [
      "RMSE Results"
     ]
    },
    {
     "cell_type": "code",
     "collapsed": false,
     "input": [
      "# flatten the results dictionary\n",
      "flat_rmse = []\n",
      "flat_rmse_ind = []\n",
      "flat_rmse_agg = []\n",
      "flat_rmse_nex = []\n",
      "del stock_rmse['INTC'] # delete INTC due to it having a ridiculously high RMSE for NoEx\n",
      "for (s, t) in stock_rmse.iteritems():\n",
      "    for (t1, v) in t.iteritems():\n",
      "        flat_rmse.append((':'.join([s,t1]), v))\n",
      "        if t1.find(',') >= 0:\n",
      "            flat_rmse_agg.append((':'.join([s,t1]), v))\n",
      "        elif t1.find('[') >= 0:\n",
      "            flat_rmse_nex.append((':'.join([s,t1]), v))\n",
      "        else:\n",
      "            flat_rmse_ind.append((':'.join([s,t1]), v))\n",
      "flat_rmse = sorted(flat_rmse, key=lambda x: x[1])\n",
      "flat_rmse_ind = sorted(flat_rmse_ind, key=lambda x: x[1])\n",
      "flat_rmse_agg = sorted(flat_rmse_agg, key=lambda x: x[1])\n",
      "flat_rmse_nex = sorted(flat_rmse_nex, key=lambda x: x[1])"
     ],
     "language": "python",
     "metadata": {},
     "outputs": [],
     "prompt_number": 40
    },
    {
     "cell_type": "code",
     "collapsed": false,
     "input": [
      "print 'Bottom 5:', flat_rmse[:5]\n",
      "print 'Top 5:', flat_rmse[-5:]"
     ],
     "language": "python",
     "metadata": {},
     "outputs": [
      {
       "output_type": "stream",
       "stream": "stdout",
       "text": [
        "Bottom 5: [('BA:[BA]', 0.03564556973675766), (u'BA:police', 0.04316092585417373), (u'VZ:high yield', 0.0540832167642826), (u'VZ:news', 0.05622084070078404), (u'VZ:right,financial,chinese,power,profit,share,could,church,percent,high yield,sale,protest,protester,year,medicine,news,unit', 0.056339164084590054)]\n",
        "Top 5: [(u'CVX:money,iraq,rule,bank,maliki', 0.3224884620751429), (u'KO:thursday', 0.32283735886498155), (u'AA:beijing', 0.5668198203541692), (u'AA:loan', 0.5837186102314498), ('AA:[AA]', 0.5841260694614657)]\n"
       ]
      }
     ],
     "prompt_number": 41
    },
    {
     "cell_type": "code",
     "collapsed": false,
     "input": [
      "# describe the statistics of the results\n",
      "flat_rmse_values = map(lambda x: x[1], flat_rmse)\n",
      "flat_rmse_ind_values = map(lambda x: x[1], flat_rmse_ind)\n",
      "flat_rmse_agg_values = map(lambda x: x[1], flat_rmse_agg)\n",
      "flat_rmse_nex_values = map(lambda x: x[1], flat_rmse_nex)\n",
      "print 'RMSE All', describe(flat_rmse_values)\n",
      "print 'RMSE Ind', describe(flat_rmse_ind_values)\n",
      "print 'RMSE Agg', describe(flat_rmse_agg_values)\n",
      "print 'RMSE nEx', describe(flat_rmse_nex_values)\n",
      "\n",
      "# plot\n",
      "rmse = pd.DataFrame({ 'RMSE:All': flat_rmse_values })\n",
      "rmse_ind = pd.DataFrame({ 'RMSE:Ind': flat_rmse_ind_values })\n",
      "rmse_agg = pd.DataFrame({ 'RMSE:Agg': flat_rmse_agg_values })\n",
      "rmse_nex = pd.DataFrame({ 'RMSE:NoEx': flat_rmse_nex_values })\n",
      "# fig, (ax1, ax2, ax3, ax4) = plt.subplots(4)\n",
      "fig, (ax1, ax2, ax3) = plt.subplots(3)\n",
      "# rmse.plot(ax=ax1, color='blue')\n",
      "ax2.set_ylim((0,0.6))\n",
      "rmse_ind.plot(ax=ax1, color='blue')\n",
      "rmse_agg.plot(ax=ax2, color='green')\n",
      "rmse_nex.plot(ax=ax3, color='black')\n",
      "ax1.xaxis.set_visible(False)\n",
      "ax2.xaxis.set_visible(False)\n",
      "ax3.xaxis.set_visible(False)\n",
      "# ax4.xaxis.set_visible(False)\n",
      "plt.show()"
     ],
     "language": "python",
     "metadata": {},
     "outputs": [
      {
       "output_type": "stream",
       "stream": "stdout",
       "text": [
        "RMSE All DescribeResult(nobs=219, minmax=(0.035645569736757657, 0.58412606946146572), mean=0.1484884517776921, variance=0.007851658887880076, skewness=1.8533381048892432, kurtosis=5.81993512473405)\n",
        "RMSE Ind DescribeResult(nobs=165, minmax=(0.043160925854173728, 0.58371861023144977), mean=0.14878434870463289, variance=0.0074835193771102355, skewness=1.756899492596328, kurtosis=5.509256779409515)\n",
        "RMSE Agg DescribeResult(nobs=26, minmax=(0.056339164084590054, 0.32248846207514292), mean=0.14142747357902977, variance=0.006105738043171759, skewness=0.9514019956491477, kurtosis=-0.01014146649164882)\n",
        "RMSE nEx DescribeResult(nobs=28, minmax=(0.035645569736757657, 0.58412606946146572), mean=0.15330139607126309, variance=0.012213395007410794, skewness=2.256413631977145, kurtosis=6.290597683186066)\n"
       ]
      },
      {
       "metadata": {},
       "output_type": "display_data",
       "png": "[encoded data removed]",
       "text": [
        "<matplotlib.figure.Figure at 0xec39f70>"
       ]
      }
     ],
     "prompt_number": 63
    },
    {
     "cell_type": "code",
     "collapsed": false,
     "input": [
      "# plt.figure()\n",
      "# rmse.hist(stacked=True, normed = True)\n",
      "fig, (ax1, ax2, ax3) = plt.subplots(3)\n",
      "rmse_ind.hist(stacked=True, normed = True, ax=ax1, color='blue', range=[0,0.6])\n",
      "rmse_agg.hist(stacked=True, normed = True, ax=ax2, color='green', range=[0,0.6])\n",
      "rmse_nex.hist(stacked=True, normed = True, ax=ax3, color='black', range=[0,0.6])\n",
      "ax1.xaxis.set_visible(False)\n",
      "ax2.xaxis.set_visible(False)\n",
      "ax3.xaxis.set_visible(True)\n",
      "plt.show()"
     ],
     "language": "python",
     "metadata": {},
     "outputs": [
      {
       "metadata": {},
       "output_type": "display_data",
       "png": "[encoded data removed]",
       "text": [
        "<matplotlib.figure.Figure at 0xefd0f10>"
       ]
      }
     ],
     "prompt_number": 58
    }
   ],
   "metadata": {}
  }
 ]
}