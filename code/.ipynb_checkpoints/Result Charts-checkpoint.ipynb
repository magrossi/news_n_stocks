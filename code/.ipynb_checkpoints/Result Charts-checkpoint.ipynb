{
 "metadata": {
  "name": "",
  "signature": "sha256:f967c663d15cddd66e21923bd7e193764a563cd53a06b6b7dd55903ec9066531"
 },
 "nbformat": 3,
 "nbformat_minor": 0,
 "worksheets": [
  {
   "cells": [
    {
     "cell_type": "code",
     "collapsed": false,
     "input": [
      "from statsmodels.tsa.arima_model import ARIMA\n",
      "from statsmodels.tsa.stattools import arma_order_select_ic\n",
      "from kpss import kpssTest\n",
      "from scipy.stats import describe\n",
      "import pickle, datetime, numpy as np, pandas as pd, matplotlib, matplotlib.pyplot as plt\n",
      "matplotlib.style.use('ggplot')"
     ],
     "language": "python",
     "metadata": {},
     "outputs": [],
     "prompt_number": 1
    },
    {
     "cell_type": "code",
     "collapsed": false,
     "input": [
      "def load_fcast(stock_symbol):\n",
      "    return pickle.load(open(\"D:/Study/DCU/MCM/Practicum/data/\"+stock_symbol+\"_forecasts.pkl\", \"rb\"))\n",
      "\n",
      "def show_chart(stock_symbol, term):\n",
      "    fcasts = load_fcast(stock_symbol)\n",
      "    test_index = pd.DatetimeIndex(fcasts['forecast_dates'], freq='D') #- datetime.timedelta(days=1)\n",
      "    forecasts = pd.DataFrame({ term: fcasts['forecasts'][term] }, index=test_index)\n",
      "    actual = pd.DataFrame(fcasts['actual'])\n",
      "    fig, ax = plt.subplots()\n",
      "    ax = actual.plot(ax=ax)\n",
      "    fig = forecasts.plot(ax=ax)\n",
      "    plt.show()"
     ],
     "language": "python",
     "metadata": {},
     "outputs": [],
     "prompt_number": 6
    },
    {
     "cell_type": "code",
     "collapsed": false,
     "input": [
      "show_chart('KO', 'officer')\n",
      "show_chart('CAT', 'compound')"
     ],
     "language": "python",
     "metadata": {},
     "outputs": [],
     "prompt_number": 8
    }
   ],
   "metadata": {}
  }
 ]
}