{
 "metadata": {
  "name": "",
  "signature": "sha256:37c42116315f27592b94aca0816e5b87a0a5ca1ff54e05a5a0f56cfc41b6b1db"
 },
 "nbformat": 3,
 "nbformat_minor": 0,
 "worksheets": [
  {
   "cells": [
    {
     "cell_type": "code",
     "collapsed": false,
     "input": [
      "from statsmodels.tsa.arima_model import ARIMA\n",
      "from statsmodels.tsa.stattools import arma_order_select_ic\n",
      "from kpss import kpssTest\n",
      "import datetime, numpy as np, pandas as pd, matplotlib, matplotlib.pyplot as plt\n",
      "matplotlib.style.use('ggplot')"
     ],
     "language": "python",
     "metadata": {},
     "outputs": [],
     "prompt_number": 1
    },
    {
     "cell_type": "code",
     "collapsed": false,
     "input": [
      "def difference(ts, n=1):\n",
      "    return (ts - ts.shift(n)).dropna()\n",
      "\n",
      "def is_stationary(kpss_result, alpha=0.05):\n",
      "    return kpss_result[1] > alpha\n",
      "\n",
      "def find_diff_stationary(df, max_diff=5):\n",
      "    i = 0\n",
      "    while i < max_diff:\n",
      "        if is_stationary(kpssTest(df, verbose=False)):\n",
      "            return (i, df, True)\n",
      "        else:\n",
      "            df = difference(df)\n",
      "        i += 1\n",
      "    return (i, df, False)\n",
      "\n",
      "def synch_series(series):\n",
      "    df = pd.DataFrame(series)\n",
      "    df.interpolate(inplace=True)\n",
      "    return df.dropna()\n",
      "\n",
      "def get_exog(df, end_date, count):\n",
      "    exog = df.ix[:end_date]\n",
      "    return exog.tail(count)\n",
      "\n",
      "def get_train_test(df, base_date):\n",
      "    msk = df.index.values < np.datetime64(base_date)\n",
      "    return (df[msk], df[~msk])\n",
      "\n",
      "def get_series_from_df(df):\n",
      "    return df.ix[:,0]"
     ],
     "language": "python",
     "metadata": {},
     "outputs": [],
     "prompt_number": 4
    },
    {
     "cell_type": "code",
     "collapsed": false,
     "input": [
      "# read saved data panels\n",
      "tp = pd.read_pickle('D:/Study/DCU/MCM/Practicum/data/terms_panel.pkl')\n",
      "sd = pd.read_pickle('D:/Study/DCU/MCM/Practicum/data/stock_panel.pkl')"
     ],
     "language": "python",
     "metadata": {},
     "outputs": [],
     "prompt_number": 2
    },
    {
     "cell_type": "markdown",
     "metadata": {},
     "source": [
      "We need now to align stock data with term data but aligned with term one day behind. This is due to the nature of how ARIMAX model is implemented. Yt is predicted with SUM[COEFF * Yt-i] + SUM[COEFF * Xt-p] but i starts with 1 and p with 0. So to predict day 10/10 in Yt, I need to have day 08/10 in term aligned with day  09/10 in stock."
     ]
    },
    {
     "cell_type": "code",
     "collapsed": false,
     "input": [
      "# stock data frame\n",
      "sts = pd.DataFrame(sd['VZ'])\n",
      "# term data frame (shift date by one day to align properly with ARIMAX models)\n",
      "tts = pd.DataFrame({ 'church': tp['church']['TF-IDF Score'] })\n",
      "tts = tts.set_index(tts.index.values + np.timedelta64(1,'D'))\n",
      "# align both into one dataframe and interpolate missing values\n",
      "df = pd.concat([sts,tts], axis=1).interpolate()\n",
      "# split them back out as normal df\n",
      "sts = pd.DataFrame(df.ix[:,0].dropna())\n",
      "tts = pd.DataFrame(df.ix[:,1].dropna())"
     ],
     "language": "python",
     "metadata": {},
     "outputs": [],
     "prompt_number": 46
    },
    {
     "cell_type": "code",
     "collapsed": false,
     "input": [
      "# train date interval\n",
      "start_date = datetime.datetime(2013,1,1)\n",
      "end_date = datetime.datetime(2014,8,13)"
     ],
     "language": "python",
     "metadata": {},
     "outputs": [],
     "prompt_number": 47
    },
    {
     "cell_type": "code",
     "collapsed": false,
     "input": [
      "# build the train dataset (make sure to shift exog by 1 day)\n",
      "sts.train = get_series_from_df(sts[start_date:end_date])\n",
      "tts.train = get_series_from_df(tts[start_date:end_date]) * 100000"
     ],
     "language": "python",
     "metadata": {},
     "outputs": [],
     "prompt_number": 77
    },
    {
     "cell_type": "code",
     "collapsed": false,
     "input": [
      "# find the order of integration of Yt\n",
      "diff_order,sts.train.diff,_ = find_diff_stationary(sts.train)\n",
      "# auto calculate AR and MA lag parameters\n",
      "auto_arma_order = arma_order_select_ic(sts.train, ic=['aic'], model_kw={'exog':tts.train})\n",
      "# full ARIMAX order params\n",
      "order = [auto_arma_order['aic_min_order'][0], diff_order, auto_arma_order['aic_min_order'][1]]\n",
      "order"
     ],
     "language": "python",
     "metadata": {},
     "outputs": [
      {
       "output_type": "stream",
       "stream": "stderr",
       "text": [
        "C:\\Python27\\lib\\site-packages\\statsmodels\\base\\model.py:466: ConvergenceWarning: Maximum Likelihood optimization failed to converge. Check mle_retvals\n",
        "  \"Check mle_retvals\", ConvergenceWarning)\n",
        "C:\\Python27\\lib\\site-packages\\statsmodels\\base\\model.py:466: ConvergenceWarning: Maximum Likelihood optimization failed to converge. Check mle_retvals\n",
        "  \"Check mle_retvals\", ConvergenceWarning)\n"
       ]
      },
      {
       "output_type": "stream",
       "stream": "stderr",
       "text": [
        "C:\\Python27\\lib\\site-packages\\statsmodels\\base\\model.py:466: ConvergenceWarning: Maximum Likelihood optimization failed to converge. Check mle_retvals\n",
        "  \"Check mle_retvals\", ConvergenceWarning)\n",
        "C:\\Python27\\lib\\site-packages\\statsmodels\\base\\model.py:466: ConvergenceWarning: Maximum Likelihood optimization failed to converge. Check mle_retvals\n",
        "  \"Check mle_retvals\", ConvergenceWarning)\n"
       ]
      },
      {
       "output_type": "stream",
       "stream": "stderr",
       "text": [
        "C:\\Python27\\lib\\site-packages\\statsmodels\\base\\model.py:466: ConvergenceWarning: Maximum Likelihood optimization failed to converge. Check mle_retvals\n",
        "  \"Check mle_retvals\", ConvergenceWarning)\n",
        "C:\\Python27\\lib\\site-packages\\statsmodels\\base\\model.py:466: ConvergenceWarning: Maximum Likelihood optimization failed to converge. Check mle_retvals\n",
        "  \"Check mle_retvals\", ConvergenceWarning)\n"
       ]
      },
      {
       "output_type": "stream",
       "stream": "stderr",
       "text": [
        "C:\\Python27\\lib\\site-packages\\statsmodels\\base\\model.py:466: ConvergenceWarning: Maximum Likelihood optimization failed to converge. Check mle_retvals\n",
        "  \"Check mle_retvals\", ConvergenceWarning)\n",
        "C:\\Python27\\lib\\site-packages\\statsmodels\\base\\model.py:466: ConvergenceWarning: Maximum Likelihood optimization failed to converge. Check mle_retvals\n",
        "  \"Check mle_retvals\", ConvergenceWarning)\n"
       ]
      },
      {
       "output_type": "stream",
       "stream": "stderr",
       "text": [
        "C:\\Python27\\lib\\site-packages\\statsmodels\\base\\model.py:466: ConvergenceWarning: Maximum Likelihood optimization failed to converge. Check mle_retvals\n",
        "  \"Check mle_retvals\", ConvergenceWarning)\n",
        "C:\\Python27\\lib\\site-packages\\statsmodels\\base\\model.py:466: ConvergenceWarning: Maximum Likelihood optimization failed to converge. Check mle_retvals\n",
        "  \"Check mle_retvals\", ConvergenceWarning)\n"
       ]
      },
      {
       "metadata": {},
       "output_type": "pyout",
       "prompt_number": 80,
       "text": [
        "[4, 1, 2]"
       ]
      }
     ],
     "prompt_number": 80
    },
    {
     "cell_type": "code",
     "collapsed": false,
     "input": [
      "model = ARIMA(sts.train, order, exog=tts.train)\n",
      "res = model.fit(maxiter=100,transparams=True)\n",
      "#sts.train"
     ],
     "language": "python",
     "metadata": {},
     "outputs": [],
     "prompt_number": 92
    },
    {
     "cell_type": "code",
     "collapsed": false,
     "input": [
      "res.plot_predict()\n",
      "plt.show()\n",
      "#plt.plot(sts.train, color='blue')\n",
      "#plt.plot(res.fittedvalues, color='red')\n",
      "#plt.show()"
     ],
     "language": "python",
     "metadata": {},
     "outputs": [],
     "prompt_number": 93
    },
    {
     "cell_type": "code",
     "collapsed": false,
     "input": [
      "# code for doing windowed predictions\n",
      "# for i in range(0,len(data)):\n",
      "#     fit.append(result.forecast()[0])\n",
      "#     numpy.append(result.data.endog.data[i])"
     ],
     "language": "python",
     "metadata": {},
     "outputs": []
    },
    {
     "cell_type": "code",
     "collapsed": false,
     "input": [
      "# n_pred = 1\n",
      "# fcast = res.predict(start=len(df.train['y']), end=len(df.train['y']) + n_pred - 1, exog=df.train['x'].tail(n_pred + order[0]))#df.test['x'])\n",
      "# print 'fcast:',fcast,'actual:',df.test['y'].head(n_pred)\n",
      "# -0.070182 vs 0.080002"
     ],
     "language": "python",
     "metadata": {},
     "outputs": []
    }
   ],
   "metadata": {}
  }
 ]
}