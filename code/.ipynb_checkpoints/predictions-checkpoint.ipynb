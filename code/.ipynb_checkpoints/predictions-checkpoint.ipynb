{
 "metadata": {
  "name": "",
  "signature": "sha256:41b6760b4affe3a74d65df8262a0bcb8f5abe12c87da233e324332f2a1ccc989"
 },
 "nbformat": 3,
 "nbformat_minor": 0,
 "worksheets": [
  {
   "cells": [
    {
     "cell_type": "code",
     "collapsed": false,
     "input": [
      "#%matplotlib inline\n",
      "from statsmodels.tsa.arima_model import ARIMA\n",
      "from statsmodels.tsa.stattools import arma_order_select_ic\n",
      "from kpss import kpssTest\n",
      "import datetime, numpy as np, pandas as pd, matplotlib, matplotlib.pyplot as plt\n",
      "matplotlib.style.use('ggplot')"
     ],
     "language": "python",
     "metadata": {},
     "outputs": [],
     "prompt_number": 71
    },
    {
     "cell_type": "code",
     "collapsed": false,
     "input": [
      "def difference(ts, n=1):\n",
      "    return (ts - ts.shift(n)).dropna()\n",
      "\n",
      "def is_stationary(kpss_result, alpha=0.05):\n",
      "    return kpss_result[1] > alpha\n",
      "\n",
      "def find_diff_stationary(df, max_diff=5):\n",
      "    i = 0\n",
      "    while i < max_diff:\n",
      "        if is_stationary(kpssTest(df, verbose=False)):\n",
      "            return (i, df, True)\n",
      "        else:\n",
      "            df = difference(df)\n",
      "        i += 1\n",
      "    return (i, df, False)\n",
      "\n",
      "def synch_series(series):\n",
      "    df = pd.DataFrame(series)\n",
      "    df.interpolate(inplace=True)\n",
      "    return df.dropna()\n",
      "\n",
      "def get_exog(df, end_date, count):\n",
      "    exog = df.ix[:end_date]\n",
      "    return exog.tail(count)\n",
      "\n",
      "def get_train_test(df, base_date):\n",
      "    msk = df.index.values < np.datetime64(base_date)\n",
      "    return (df[msk], df[~msk])\n",
      "\n",
      "def get_series_from_df(df):\n",
      "    return df.ix[:,0]"
     ],
     "language": "python",
     "metadata": {},
     "outputs": [],
     "prompt_number": 2
    },
    {
     "cell_type": "code",
     "collapsed": false,
     "input": [
      "# read saved data panels\n",
      "tp = pd.read_pickle('D:/Study/DCU/MCM/Practicum/data/terms_panel.pkl')\n",
      "sd = pd.read_pickle('D:/Study/DCU/MCM/Practicum/data/stock_panel.pkl')"
     ],
     "language": "python",
     "metadata": {},
     "outputs": [],
     "prompt_number": 3
    },
    {
     "cell_type": "markdown",
     "metadata": {},
     "source": [
      "We need now to align stock data with term data but aligned with term one day behind. This is due to the nature of how ARIMAX model is implemented. Yt is predicted with SUM[COEFF * Yt-i] + SUM[COEFF * Xt-p] but i starts with 1 and p with 0. So to predict day 10/10 in Yt, I need to have day 08/10 in term aligned with day  09/10 in stock."
     ]
    },
    {
     "cell_type": "code",
     "collapsed": false,
     "input": [
      "# stock data frame\n",
      "sts = pd.DataFrame(sd['VZ'])\n",
      "# term data frame (shift date by one day to align properly with ARIMAX models)\n",
      "tts = pd.DataFrame({ 'church': tp['church']['TF-IDF Score'] })\n",
      "tts = tts.set_index(tts.index.values + np.timedelta64(1,'D'))\n",
      "# align both into one dataframe and interpolate missing values\n",
      "df = pd.concat([sts,tts], axis=1).interpolate()\n",
      "# split them back out as normal df\n",
      "sts = pd.DataFrame(df.ix[:,0].dropna())\n",
      "tts = pd.DataFrame(df.ix[:,1].dropna())"
     ],
     "language": "python",
     "metadata": {},
     "outputs": [],
     "prompt_number": 4
    },
    {
     "cell_type": "code",
     "collapsed": false,
     "input": [
      "# train date interval\n",
      "start_date = datetime.datetime(2013,1,1)\n",
      "end_date = datetime.datetime(2014,8,13)"
     ],
     "language": "python",
     "metadata": {},
     "outputs": [],
     "prompt_number": 5
    },
    {
     "cell_type": "code",
     "collapsed": false,
     "input": [
      "# build the train dataset (make sure to shift exog by 1 day)\n",
      "sts.train = get_series_from_df(sts[start_date:end_date])\n",
      "sts.test = get_series_from_df(sts[end_date + datetime.timedelta(days=1):])\n",
      "tts.train = get_series_from_df(tts[start_date:end_date])"
     ],
     "language": "python",
     "metadata": {},
     "outputs": [],
     "prompt_number": 86
    },
    {
     "cell_type": "code",
     "collapsed": false,
     "input": [
      "# find the order of integration of Yt and Xt\n",
      "diff_sts,sts.train.diff,_ = find_diff_stationary(sts.train)\n",
      "diff_tts,tts.train.diff,_ = find_diff_stationary(tts.train)\n",
      "print 'Diff Order STS:', diff_sts, 'Diff Order TTS:', diff_tts"
     ],
     "language": "python",
     "metadata": {},
     "outputs": [
      {
       "output_type": "stream",
       "stream": "stdout",
       "text": [
        "Diff Order STS: 1 Diff Order TTS: 0\n"
       ]
      }
     ],
     "prompt_number": 34
    },
    {
     "cell_type": "code",
     "collapsed": false,
     "input": [
      "# auto calculate AR and MA lag parameters\n",
      "auto_arma_order = arma_order_select_ic(sts.train, ic=['aic'], model_kw={'exog':tts.train.diff}, fit_kw={'exog':tts.train.diff, 'maxiter':100})\n",
      "# full ARIMAX order params\n",
      "order = [auto_arma_order['aic_min_order'][0], diff_order, auto_arma_order['aic_min_order'][1]]\n",
      "print '(p,q,d) parameters:', order\n",
      "order = [3,1,2]"
     ],
     "language": "python",
     "metadata": {},
     "outputs": [
      {
       "output_type": "stream",
       "stream": "stderr",
       "text": [
        "C:\\Python27\\lib\\site-packages\\statsmodels\\base\\model.py:466: ConvergenceWarning: Maximum Likelihood optimization failed to converge. Check mle_retvals\n",
        "  \"Check mle_retvals\", ConvergenceWarning)\n",
        "C:\\Python27\\lib\\site-packages\\statsmodels\\base\\model.py:466: ConvergenceWarning: Maximum Likelihood optimization failed to converge. Check mle_retvals\n",
        "  \"Check mle_retvals\", ConvergenceWarning)\n"
       ]
      },
      {
       "output_type": "stream",
       "stream": "stdout",
       "text": [
        "(p,q,d) parameters: [1, 1, 0]\n"
       ]
      }
     ],
     "prompt_number": 67
    },
    {
     "cell_type": "code",
     "collapsed": false,
     "input": [
      "model = ARIMA(sts.train, order, exog=tts.train.diff)\n",
      "#model = ARIMA(sts.train, order)\n",
      "res = model.fit(maxiter=200,transparams=True)"
     ],
     "language": "python",
     "metadata": {},
     "outputs": [],
     "prompt_number": 68
    },
    {
     "cell_type": "code",
     "collapsed": false,
     "input": [
      "res.plot_predict()\n",
      "plt.show()\n",
      "res.summary()"
     ],
     "language": "python",
     "metadata": {},
     "outputs": [
      {
       "metadata": {},
       "output_type": "display_data",
       "png": "[encoded data removed]",
       "text": [
        "<matplotlib.figure.Figure at 0x11054070>"
       ]
      },
      {
       "html": [
        "<table class=\"simpletable\">\n",
        "<caption>ARIMA Model Results</caption>\n",
        "<tr>\n",
        "  <th>Dep. Variable:</th>       <td>D.VZ</td>       <th>  No. Observations:  </th>    <td>588</td>  \n",
        "</tr>\n",
        "<tr>\n",
        "  <th>Model:</th>          <td>ARIMA(1, 1, 0)</td>  <th>  Log Likelihood     </th> <td>-294.750</td>\n",
        "</tr>\n",
        "<tr>\n",
        "  <th>Method:</th>             <td>css-mle</td>     <th>  S.D. of innovations</th>   <td>0.399</td> \n",
        "</tr>\n",
        "<tr>\n",
        "  <th>Date:</th>          <td>Thu, 11 Aug 2016</td> <th>  AIC                </th>  <td>597.501</td>\n",
        "</tr>\n",
        "<tr>\n",
        "  <th>Time:</th>              <td>00:47:02</td>     <th>  BIC                </th>  <td>615.008</td>\n",
        "</tr>\n",
        "<tr>\n",
        "  <th>Sample:</th>           <td>01-03-2013</td>    <th>  HQIC               </th>  <td>604.322</td>\n",
        "</tr>\n",
        "<tr>\n",
        "  <th></th>                 <td>- 08-13-2014</td>   <th>                     </th>     <td> </td>   \n",
        "</tr>\n",
        "</table>\n",
        "<table class=\"simpletable\">\n",
        "<tr>\n",
        "       <td></td>         <th>coef</th>     <th>std err</th>      <th>z</th>      <th>P>|z|</th> <th>[95.0% Conf. Int.]</th> \n",
        "</tr>\n",
        "<tr>\n",
        "  <th>const</th>      <td>    0.0177</td> <td>    0.024</td> <td>    0.736</td> <td> 0.462</td> <td>   -0.029     0.065</td>\n",
        "</tr>\n",
        "<tr>\n",
        "  <th>church</th>     <td>  -10.1383</td> <td>   17.325</td> <td>   -0.585</td> <td> 0.559</td> <td>  -44.094    23.817</td>\n",
        "</tr>\n",
        "<tr>\n",
        "  <th>ar.L1.D.VZ</th> <td>    0.0460</td> <td>    0.041</td> <td>    1.115</td> <td> 0.265</td> <td>   -0.035     0.127</td>\n",
        "</tr>\n",
        "</table>\n",
        "<table class=\"simpletable\">\n",
        "<caption>Roots</caption>\n",
        "<tr>\n",
        "    <td></td>   <th>           Real</th> <th>         Imaginary</th> <th>         Modulus</th> <th>        Frequency</th>\n",
        "</tr>\n",
        "<tr>\n",
        "  <th>AR.1</th>              21.7538                    +0.0000j                   21.7538                    0.0000     \n",
        "</tr>\n",
        "</table>"
       ],
       "metadata": {},
       "output_type": "pyout",
       "prompt_number": 45,
       "text": [
        "<class 'statsmodels.iolib.summary.Summary'>\n",
        "\"\"\"\n",
        "                             ARIMA Model Results                              \n",
        "==============================================================================\n",
        "Dep. Variable:                   D.VZ   No. Observations:                  588\n",
        "Model:                 ARIMA(1, 1, 0)   Log Likelihood                -294.750\n",
        "Method:                       css-mle   S.D. of innovations              0.399\n",
        "Date:                Thu, 11 Aug 2016   AIC                            597.501\n",
        "Time:                        00:47:02   BIC                            615.008\n",
        "Sample:                    01-03-2013   HQIC                           604.322\n",
        "                         - 08-13-2014                                         \n",
        "==============================================================================\n",
        "                 coef    std err          z      P>|z|      [95.0% Conf. Int.]\n",
        "------------------------------------------------------------------------------\n",
        "const          0.0177      0.024      0.736      0.462        -0.029     0.065\n",
        "church       -10.1383     17.325     -0.585      0.559       -44.094    23.817\n",
        "ar.L1.D.VZ     0.0460      0.041      1.115      0.265        -0.035     0.127\n",
        "                                    Roots                                    \n",
        "=============================================================================\n",
        "                 Real           Imaginary           Modulus         Frequency\n",
        "-----------------------------------------------------------------------------\n",
        "AR.1           21.7538           +0.0000j           21.7538            0.0000\n",
        "-----------------------------------------------------------------------------\n",
        "\"\"\""
       ]
      }
     ],
     "prompt_number": 45
    },
    {
     "cell_type": "code",
     "collapsed": false,
     "input": [
      "test_start_date = end_date + datetime.timedelta(days=1)\n",
      "tts.test = get_series_from_df(tts[test_start_date:])\n",
      "fig, ax = plt.subplots()\n",
      "ax = sts.train.plot(ax=ax)\n",
      "fig = res.plot_predict(len(sts.train)-10, len(sts.train) + 10, ax=ax, exog=tts.test, dynamic=True, plot_insample=False)\n",
      "#res.forecast(steps=10, exog=tts.test)\n",
      "plt.show()"
     ],
     "language": "python",
     "metadata": {},
     "outputs": [
      {
       "metadata": {},
       "output_type": "display_data",
       "png": "[encoded data removed]",
       "text": [
        "<matplotlib.figure.Figure at 0x1122cd10>"
       ]
      }
     ],
     "prompt_number": 73
    },
    {
     "cell_type": "code",
     "collapsed": false,
     "input": [
      "steps = 2\n",
      "forecast = res.forecast(steps=steps, exog=tts.test[:steps])\n",
      "print sts.test[:steps], forecast[0]\n"
     ],
     "language": "python",
     "metadata": {},
     "outputs": [
      {
       "output_type": "stream",
       "stream": "stdout",
       "text": [
        "2014-08-14    49.000000\n",
        "2014-08-15    48.799999\n",
        "Freq: D, Name: VZ, dtype: float64 [ 48.87412391  48.8892337 ]\n"
       ]
      }
     ],
     "prompt_number": 92
    },
    {
     "cell_type": "code",
     "collapsed": false,
     "input": [
      "#res.data.endog\n",
      "#res.data.exog\n",
      "#np.concatenate((res.data.endog, [1]), axis=0)\n",
      "#np.concatenate((res.data.exog, [[1]]), axis=0)"
     ],
     "language": "python",
     "metadata": {},
     "outputs": [
      {
       "metadata": {},
       "output_type": "pyout",
       "prompt_number": 112,
       "text": [
        "array([ 44.27      ,  44.060001  ,  44.299999  ,  44.429999  ,\n",
        "        44.559999  ,  44.689999  ,  43.099998  ,  43.        ,\n",
        "        43.59      ,  43.299999  ,  43.06333267,  42.82666633,\n",
        "        42.59      ,  41.970001  ,  41.509998  ,  42.130001  ,\n",
        "        42.540001  ,  42.6400005 ,  42.74      ,  42.8399995 ,\n",
        "        42.939999  ,  42.790001  ,  42.59      ,  42.669998  ,\n",
        "        42.703332  ,  42.736666  ,  42.77      ,  43.5       ,\n",
        "        43.610001  ,  43.610001  ,  44.560001  ,  44.54666733,\n",
        "        44.53333367,  44.52      ,  44.560001  ,  44.75      ,\n",
        "        44.459999  ,  44.349998  ,  44.33999867,  44.32999933,\n",
        "        44.32      ,  44.439999  ,  44.52      ,  44.330002  ,\n",
        "        44.400002  ,  44.4250015 ,  44.450001  ,  44.4750005 ,\n",
        "        44.5       ,  44.919998  ,  45.119999  ,  45.400002  ,\n",
        "        45.50666833,  45.61333467,  45.720001  ,  46.119999  ,\n",
        "        46.349998  ,  46.529999  ,  46.720001  ,  46.850001  ,\n",
        "        46.980001  ,  47.110001  ,  47.689999  ,  47.279999  ,\n",
        "        47.48      ,  47.959999  ,  47.90999967,  47.86000033,\n",
        "        47.810001  ,  48.360001  ,  47.939999  ,  48.48      ,\n",
        "        48.02      ,  48.26333333,  48.50666667,  48.75      ,\n",
        "        48.950001  ,  48.599998  ,  48.799999  ,  49.02      ,\n",
        "        49.06666667,  49.11333333,  49.16      ,  49.48      ,\n",
        "        48.939999  ,  49.150002  ,  49.16750175,  49.1850015 ,\n",
        "        49.20250125,  49.220001  ,  49.5       ,  48.990002  ,\n",
        "        49.299999  ,  49.560001  ,  49.51666733,  49.47333367,\n",
        "        49.43      ,  49.360001  ,  49.860001  ,  50.509998  ,\n",
        "        50.860001  ,  50.786667  ,  50.713333  ,  50.639999  ,\n",
        "        50.459999  ,  49.540001  ,  50.91      ,  52.25      ,\n",
        "        52.22999967,  52.20999933,  52.189999  ,  52.32      ,\n",
        "        51.799999  ,  53.220001  ,  53.630001  ,  53.57333367,\n",
        "        53.51666633,  53.459999  ,  53.91      ,  52.400002  ,\n",
        "        52.529999  ,  52.68      ,  52.46999967,  52.25999933,\n",
        "        52.049999  ,  52.919998  ,  53.110001  ,  52.709999  ,\n",
        "        52.889999  ,  52.77666567,  52.66333233,  52.549999  ,\n",
        "        53.169998  ,  53.599998  ,  53.200001  ,  53.349998  ,\n",
        "        53.146666  ,  52.943334  ,  52.740002  ,  52.07      ,\n",
        "        51.470001  ,  51.889999  ,  51.389999  ,  51.24749925,\n",
        "        51.1049995 ,  50.96249975,  50.82      ,  49.57      ,\n",
        "        49.080002  ,  48.48      ,  48.54      ,  48.6       ,\n",
        "        48.66      ,  48.84      ,  48.299999  ,  49.970001  ,\n",
        "        50.240002  ,  50.33666767,  50.43333333,  50.529999  ,\n",
        "        50.18      ,  49.900002  ,  50.639999  ,  51.07      ,\n",
        "        50.94999967,  50.82999933,  50.709999  ,  51.549999  ,\n",
        "        50.049999  ,  48.959999  ,  49.52      ,  49.38666633,\n",
        "        49.25333267,  49.119999  ,  50.439999  ,  50.66      ,\n",
        "        51.        ,  50.34      ,  50.346667  ,  50.353334  ,\n",
        "        50.360001  ,  50.630001  ,  51.009998  ,  51.1549985 ,\n",
        "        51.299999  ,  51.25666533,  51.21333167,  51.169998  ,\n",
        "        50.959999  ,  50.540001  ,  51.209999  ,  50.41      ,\n",
        "        50.25999967,  50.10999933,  49.959999  ,  50.279999  ,\n",
        "        50.740002  ,  49.970001  ,  49.950001  ,  50.05666733,\n",
        "        50.16333367,  50.27      ,  50.360001  ,  50.380001  ,\n",
        "        50.709999  ,  51.02      ,  51.17666733,  51.33333467,\n",
        "        51.490002  ,  50.419998  ,  49.48      ,  50.009998  ,\n",
        "        50.25      ,  50.23666633,  50.22333267,  50.209999  ,\n",
        "        50.09      ,  49.93      ,  49.619999  ,  49.32      ,\n",
        "        49.43000067,  49.54000133,  49.650002  ,  49.150002  ,\n",
        "        48.889999  ,  48.540001  ,  47.709999  ,  47.63999933,\n",
        "        47.56999967,  47.5       ,  47.91      ,  47.27      ,\n",
        "        47.02      ,  47.610001  ,  47.386667  ,  47.163333  ,\n",
        "        46.939999  ,  46.950001  ,  46.560001  ,  47.82      ,\n",
        "        47.380001  ,  47.03750025,  46.6949995 ,  46.35249875,\n",
        "        46.009998  ,  46.779999  ,  46.639999  ,  46.34      ,\n",
        "        46.19666667,  46.05333333,  45.91      ,  46.470001  ,\n",
        "        46.52      ,  47.349998  ,  47.759998  ,  47.93999833,\n",
        "        48.11999867,  48.299999  ,  48.57      ,  48.720001  ,\n",
        "        48.509998  ,  47.779999  ,  47.846666  ,  47.913333  ,\n",
        "        47.98      ,  47.27      ,  46.950001  ,  47.669998  ,\n",
        "        47.        ,  46.88999933,  46.77999867,  46.669998  ,\n",
        "        46.990002  ,  46.790001  ,  47.009998  ,  47.099998  ,\n",
        "        47.16333233,  47.22666667,  47.290001  ,  46.049999  ,\n",
        "        46.200001  ,  46.860001  ,  47.09      ,  46.996667  ,\n",
        "        46.903334  ,  46.810001  ,  46.32      ,  47.25      ,\n",
        "        48.900002  ,  50.009998  ,  50.19999933,  50.39000067,\n",
        "        50.580002  ,  51.139999  ,  50.82      ,  50.419998  ,\n",
        "        50.709999  ,  50.66333267,  50.61666633,  50.57      ,\n",
        "        51.09      ,  50.529999  ,  50.509998  ,  50.490002  ,\n",
        "        50.68666867,  50.88333533,  51.080002  ,  50.099998  ,\n",
        "        50.610001  ,  50.169998  ,  50.200001  ,  50.12000033,\n",
        "        50.03999967,  49.959999  ,  50.16      ,  49.990002  ,\n",
        "        50.27      ,  50.310001  ,  50.46      ,  50.609999  ,\n",
        "        50.759998  ,  50.779999  ,  50.400002  ,  50.380001  ,\n",
        "        50.220001  ,  50.15      ,  50.079999  ,  50.009998  ,\n",
        "        50.049999  ,  49.93      ,  49.7749995 ,  49.619999  ,\n",
        "        49.49999867,  49.37999833,  49.259998  ,  49.599998  ,\n",
        "        49.369999  ,  48.91      ,  49.48      ,  49.51      ,\n",
        "        49.54      ,  49.57      ,  49.049999  ,  48.490002  ,\n",
        "        48.130001  ,  47.84      ,  47.97999933,  48.11999867,\n",
        "        48.259998  ,  47.560001  ,  48.470001  ,  48.43      ,\n",
        "        48.080002  ,  48.24666867,  48.41333533,  48.580002  ,\n",
        "        48.98      ,  49.08      ,  49.18      ,  49.169998  ,\n",
        "        49.16333267,  49.15666733,  49.150002  ,  49.139999  ,\n",
        "        49.0699995 ,  49.        ,  48.419998  ,  48.50999833,\n",
        "        48.59999867,  48.689999  ,  49.299999  ,  48.5       ,\n",
        "        47.5       ,  47.75      ,  47.50999967,  47.26999933,\n",
        "        47.029999  ,  47.080002  ,  48.27      ,  48.529999  ,\n",
        "        48.349998  ,  48.18749875,  48.0249995 ,  47.86250025,\n",
        "        47.700001  ,  47.330002  ,  47.860001  ,  47.630001  ,\n",
        "        47.65000033,  47.66999967,  47.689999  ,  47.360001  ,\n",
        "        47.689999  ,  47.630001  ,  48.02      ,  47.48333333,\n",
        "        46.94666667,  46.41      ,  46.82      ,  46.689999  ,\n",
        "        46.68      ,  46.810001  ,  46.843334  ,  46.876667  ,\n",
        "        46.91      ,  47.209999  ,  47.369999  ,  47.310001  ,\n",
        "        46.509998  ,  46.3774985 ,  46.244999  ,  46.1124995 ,\n",
        "        45.98      ,  46.529999  ,  48.119999  ,  47.27      ,\n",
        "        46.92333333,  46.57666667,  46.23      ,  46.290001  ,\n",
        "        46.349998  ,  47.5       ,  47.580002  ,  47.49000167,\n",
        "        47.40000133,  47.310001  ,  47.900002  ,  47.380001  ,\n",
        "        47.459999  ,  47.150002  ,  47.110001  ,  47.07      ,\n",
        "        47.029999  ,  46.700001  ,  46.360001  ,  46.029999  ,\n",
        "        46.080002  ,  46.15666833,  46.23333467,  46.310001  ,\n",
        "        46.700001  ,  46.360001  ,  47.209999  ,  46.91      ,\n",
        "        46.94333267,  46.97666533,  47.009998  ,  47.220001  ,\n",
        "        47.009998  ,  47.689999  ,  47.419998  ,  47.46999867,\n",
        "        47.51999933,  47.57      ,  47.75      ,  47.82      ,\n",
        "        48.119999  ,  48.040001  ,  48.066667  ,  48.093333  ,\n",
        "        48.119999  ,  48.209999  ,  47.98      ,  47.470001  ,\n",
        "        47.07      ,  47.13666667,  47.20333333,  47.27      ,\n",
        "        46.919998  ,  47.099998  ,  47.599998  ,  47.6949985 ,\n",
        "        47.789999  ,  47.8849995 ,  47.98      ,  47.919998  ,\n",
        "        47.43      ,  46.279999  ,  45.939999  ,  46.15999867,\n",
        "        46.37999833,  46.599998  ,  46.77      ,  46.73      ,\n",
        "        47.220001  ,  47.119999  ,  47.209999  ,  47.299999  ,\n",
        "        47.389999  ,  47.470001  ,  48.099998  ,  48.490002  ,\n",
        "        48.48      ,  48.37333333,  48.26666667,  48.16      ,\n",
        "        47.849998  ,  48.009998  ,  47.959999  ,  49.07      ,\n",
        "        49.09666733,  49.12333467,  49.150002  ,  48.650002  ,\n",
        "        49.169998  ,  49.450001  ,  49.740002  ,  49.71000125,\n",
        "        49.6800005 ,  49.64999975,  49.619999  ,  49.740002  ,\n",
        "        49.720001  ,  49.959999  ,  49.989999  ,  50.019999  ,\n",
        "        50.049999  ,  49.290001  ,  49.150002  ,  49.279999  ,\n",
        "        49.419998  ,  49.46999867,  49.51999933,  49.57      ,\n",
        "        49.52      ,  49.369999  ,  49.040001  ,  49.18      ,\n",
        "        49.22333367,  49.26666733,  49.310001  ,  49.209999  ,\n",
        "        49.419998  ,  49.470001  ,  49.389999  ,  49.50333267,\n",
        "        49.61666633,  49.73      ,  49.279999  ,  49.41      ,\n",
        "        49.209999  ,  49.32      ,  49.19      ,  49.06      ,\n",
        "        48.93      ,  49.369999  ,  49.66      ,  49.709999  ,\n",
        "        49.71999925,  49.7299995 ,  49.73999975,  49.75      ,\n",
        "        48.759998  ,  48.900002  ,  49.639999  ,  50.32      ,\n",
        "        50.38999967,  50.45999933,  50.529999  ,  50.709999  ,\n",
        "        50.959999  ,  50.32      ,  50.75      ,  50.73333367,\n",
        "        50.71666733,  50.700001  ,  50.98      ,  50.91      ,\n",
        "        51.049999  ,  51.279999  ,  51.38      ,  51.480001  ,\n",
        "        51.580002  ,  51.970001  ,  51.759998  ,  50.419998  ,\n",
        "        49.830002  ,  49.95666767,  50.08333333,  50.209999  ,\n",
        "        49.66      ,  49.130001  ,  48.650002  ,  48.700001  ,\n",
        "        48.69      ,  48.679999  ,  48.669998  ,  48.84      ,\n",
        "        48.919998  ,   1.        ])"
       ]
      }
     ],
     "prompt_number": 112
    },
    {
     "cell_type": "code",
     "collapsed": false,
     "input": [
      "# example code for doing windowed predictions\n",
      "# for i in range(0,len(data)):\n",
      "#     fit.append(result.forecast()[0])\n",
      "#     numpy.append(result.data.endog, data[i])"
     ],
     "language": "python",
     "metadata": {},
     "outputs": []
    },
    {
     "cell_type": "code",
     "collapsed": false,
     "input": [
      "# n_pred = 1\n",
      "# fcast = res.predict(start=len(df.train['y']), end=len(df.train['y']) + n_pred - 1, exog=df.train['x'].tail(n_pred + order[0]))#df.test['x'])\n",
      "# print 'fcast:',fcast,'actual:',df.test['y'].head(n_pred)\n",
      "# -0.070182 vs 0.080002"
     ],
     "language": "python",
     "metadata": {},
     "outputs": []
    }
   ],
   "metadata": {}
  }
 ]
}