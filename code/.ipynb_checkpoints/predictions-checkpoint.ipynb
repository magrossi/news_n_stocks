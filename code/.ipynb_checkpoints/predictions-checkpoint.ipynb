{
 "metadata": {
  "name": "",
  "signature": "sha256:dedbe28b8c0fc6fcda51776a07c98d56efa553f1fc01af143b2942217838ab2f"
 },
 "nbformat": 3,
 "nbformat_minor": 0,
 "worksheets": [
  {
   "cells": [
    {
     "cell_type": "code",
     "collapsed": false,
     "input": [
      "from statsmodels.tsa.arima_model import ARIMA\n",
      "from statsmodels.tsa.stattools import arma_order_select_ic\n",
      "from kpss import kpssTest\n",
      "import datetime, numpy as np, pandas as pd, matplotlib, matplotlib.pyplot as plt\n",
      "matplotlib.style.use('ggplot')"
     ],
     "language": "python",
     "metadata": {},
     "outputs": [],
     "prompt_number": 126
    },
    {
     "cell_type": "code",
     "collapsed": false,
     "input": [
      "tp = pd.read_pickle('D:/Study/DCU/MCM/Practicum/data/terms_panel.pkl')\n",
      "sd = pd.read_pickle('D:/Study/DCU/MCM/Practicum/data/stock_panel.pkl')"
     ],
     "language": "python",
     "metadata": {},
     "outputs": [],
     "prompt_number": 67
    },
    {
     "cell_type": "code",
     "collapsed": false,
     "input": [
      "tts = tp['bank']['TF-IDF Score']\n",
      "sts = sd['VZ']"
     ],
     "language": "python",
     "metadata": {},
     "outputs": [],
     "prompt_number": 92
    },
    {
     "cell_type": "code",
     "collapsed": false,
     "input": [
      "def difference(ts, n=1):\n",
      "    return (ts - ts.shift(n)).dropna()\n",
      "\n",
      "def is_stationary(kpss_result, alpha=0.05):\n",
      "    return kpss_result[1] > alpha\n",
      "\n",
      "def find_diff_stationary(df, max_diff=5):\n",
      "    i = 0\n",
      "    while i < max_diff:\n",
      "        if is_stationary(kpssTest(np.asarray(df), verbose=False)):\n",
      "            return (i, df, True)\n",
      "        else:\n",
      "            df = difference(df)\n",
      "        i += 1\n",
      "    return (i, df, False)\n",
      "\n",
      "def synch_series(series):\n",
      "    df = pd.DataFrame(series)\n",
      "    df.interpolate(inplace=True)\n",
      "    return df.dropna()\n",
      "\n",
      "def get_train_test(df, base_date):\n",
      "    msk = df.index.values < np.datetime64(base_date)\n",
      "    return (df[msk], df[~msk])"
     ],
     "language": "python",
     "metadata": {},
     "outputs": [],
     "prompt_number": 139
    },
    {
     "cell_type": "code",
     "collapsed": false,
     "input": [
      "# ARIMA(sts, [1,1,1], exog=tts, missing='drop')\n",
      "# df = pd.DataFrame(dict(term=tts, stock=sts))\n",
      "#type(tp['church'])\n",
      "df = synch_series({ 'y': sts, 'x1': tts })\n",
      "#d = { 'y': sts, 'x1': tts }\n",
      "#df = pd.DataFrame(d)\n",
      "#df.interpolate(inplace=True)\n",
      "#df = df.dropna()\n",
      "io_y, y_diff, converged_y = find_diff_stationary(df['y'])\n",
      "io_x1, x1_diff, converged_x1 = find_diff_stationary(df['x1'])\n",
      "df = synch_series({ 'y': y_diff, 'x': x1_diff })"
     ],
     "language": "python",
     "metadata": {},
     "outputs": [],
     "prompt_number": 143
    },
    {
     "cell_type": "code",
     "collapsed": false,
     "input": [
      "base_date = datetime.datetime(2014,8,14)\n",
      "df.train, df.test = get_train_test(df, base_date)"
     ],
     "language": "python",
     "metadata": {},
     "outputs": [],
     "prompt_number": 164
    },
    {
     "cell_type": "code",
     "collapsed": false,
     "input": [
      "auto_arma_order = arma_order_select_ic(df.train['y'], ic=['aic'], model_kw={'exog':df.train['x']})\n",
      "order = [auto_arma_order['aic_min_order'][0], 0, auto_arma_order['aic_min_order'][1]]"
     ],
     "language": "python",
     "metadata": {},
     "outputs": [
      {
       "output_type": "stream",
       "stream": "stderr",
       "text": [
        "C:\\Python27\\lib\\site-packages\\statsmodels\\base\\model.py:466: ConvergenceWarning: Maximum Likelihood optimization failed to converge. Check mle_retvals\n",
        "  \"Check mle_retvals\", ConvergenceWarning)\n",
        "C:\\Python27\\lib\\site-packages\\statsmodels\\base\\model.py:466: ConvergenceWarning: Maximum Likelihood optimization failed to converge. Check mle_retvals\n",
        "  \"Check mle_retvals\", ConvergenceWarning)\n"
       ]
      }
     ],
     "prompt_number": 165
    },
    {
     "cell_type": "code",
     "collapsed": false,
     "input": [
      "model = ARIMA(df.train['y'], order, exog=df.train['x'], missing='drop')\n",
      "res = model.fit()"
     ],
     "language": "python",
     "metadata": {},
     "outputs": [],
     "prompt_number": 178
    },
    {
     "cell_type": "code",
     "collapsed": false,
     "input": [
      "res."
     ],
     "language": "python",
     "metadata": {},
     "outputs": []
    },
    {
     "cell_type": "code",
     "collapsed": false,
     "input": [
      "# code for doing windowed predictions\n",
      "# for i in range(0,len(data)):\n",
      "#     fit.append(result.forecast()[0])\n",
      "#     numpy.append(result.data.endog.data[i])"
     ],
     "language": "python",
     "metadata": {},
     "outputs": [],
     "prompt_number": 197
    },
    {
     "cell_type": "code",
     "collapsed": false,
     "input": [
      "n_pred = 1\n",
      "fcast = res.predict(start=len(df.train['y']), end=len(df.train['y']) + n_pred - 1, exog=df.train['x'].tail(n_pred + order[0]))#df.test['x'])\n",
      "print 'fcast:',fcast,'actual:',df.test['y'].head(n_pred)\n",
      "# -0.070182 vs 0.080002"
     ],
     "language": "python",
     "metadata": {},
     "outputs": [
      {
       "output_type": "stream",
       "stream": "stdout",
       "text": [
        "fcast: 2014-08-14   -0.085709\n",
        "Freq: D, dtype: float64 actual: 2014-08-14    0.080002\n",
        "Freq: D, Name: y, dtype: float64\n"
       ]
      }
     ],
     "prompt_number": 196
    }
   ],
   "metadata": {}
  }
 ]
}