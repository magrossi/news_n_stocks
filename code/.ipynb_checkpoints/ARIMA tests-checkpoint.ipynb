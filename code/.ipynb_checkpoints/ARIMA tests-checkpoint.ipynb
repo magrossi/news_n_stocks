{
 "metadata": {
  "name": "",
  "signature": "sha256:23a56603ad8ce392c070e0d1e532f8275e9de383bf3c05c5e2e74e9d0cd34c7d"
 },
 "nbformat": 3,
 "nbformat_minor": 0,
 "worksheets": [
  {
   "cells": [
    {
     "cell_type": "code",
     "collapsed": false,
     "input": [
      "from statsmodels.tsa.arima_model import ARIMA\n",
      "from statsmodels.tsa.stattools import arma_order_select_ic\n",
      "from kpss import kpssTest\n",
      "import datetime, numpy as np, pandas as pd, matplotlib, matplotlib.pyplot as plt\n",
      "matplotlib.style.use('ggplot')"
     ],
     "language": "python",
     "metadata": {},
     "outputs": [],
     "prompt_number": 1
    },
    {
     "cell_type": "code",
     "collapsed": false,
     "input": [
      "vals = np.random.rand(13)\n",
      "ts = pd.TimeSeries(vals)\n",
      "df = pd.DataFrame(ts, columns=[\"test\"])\n",
      "df.index = pd.Index(pd.date_range(\"2011/01/01\", periods = len(vals), freq = 'Q'))\n",
      "\n",
      "exogx = np.array(range(1,14))\n",
      "fit2 = ARIMA(df, (0,0,0),exog = exogx).fit()\n",
      "print(fit2.fittedvalues)\n",
      "pred2 = fit2.predict(start = 12, end = 16, exog = np.array(range(13,17))*10000)\n",
      "print(pred2)"
     ],
     "language": "python",
     "metadata": {},
     "outputs": []
    }
   ],
   "metadata": {}
  }
 ]
}