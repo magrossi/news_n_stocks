{
 "metadata": {
  "name": "",
  "signature": "sha256:299458f5fef0e3d28473525d2c5249d5efddb67c376ffe78da92f410eea6ebba"
 },
 "nbformat": 3,
 "nbformat_minor": 0,
 "worksheets": [
  {
   "cells": [
    {
     "cell_type": "code",
     "collapsed": false,
     "input": [
      "from statsmodels.tsa.arima_model import ARIMA\n",
      "from statsmodels.tsa.stattools import arma_order_select_ic\n",
      "from kpss import kpssTest\n",
      "import datetime, numpy as np, pandas as pd, matplotlib, matplotlib.pyplot as plt\n",
      "matplotlib.style.use('ggplot')"
     ],
     "language": "python",
     "metadata": {},
     "outputs": [],
     "prompt_number": 1
    },
    {
     "cell_type": "code",
     "collapsed": false,
     "input": [
      "vals = np.random.rand(13)\n",
      "ts = pd.Series(vals)\n",
      "df = pd.DataFrame(ts, columns=[\"test\"])\n",
      "df.index = pd.Index(pd.date_range(\"2011/01/01\", periods = len(vals), freq = 'Q'))\n",
      "\n",
      "exogx = np.array(range(1,14))\n",
      "fit2 = ARIMA(df, (0,0,0),exog = exogx).fit()\n",
      "print(fit2.fittedvalues)\n",
      "pred2 = fit2.predict(start = 13, end = 16, exog = np.array(range(13,17))*10000)\n",
      "print(pred2)"
     ],
     "language": "python",
     "metadata": {},
     "outputs": [
      {
       "output_type": "stream",
       "stream": "stdout",
       "text": [
        "2011-03-31    0.519459\n",
        "2011-06-30    0.538199\n",
        "2011-09-30    0.556939\n",
        "2011-12-31    0.575678\n",
        "2012-03-31    0.594418\n",
        "2012-06-30    0.613158\n",
        "2012-09-30    0.631898\n",
        "2012-12-31    0.650637\n",
        "2013-03-31    0.669377\n",
        "2013-06-30    0.688117\n",
        "2013-09-30    0.706857\n",
        "2013-12-31    0.725596\n",
        "2014-03-31    0.744336\n",
        "Freq: Q-DEC, dtype: float64\n",
        "2014-06-30    2436.667752\n",
        "2014-09-30    2624.065216\n",
        "2014-12-31    2811.462680\n",
        "2015-03-31    2998.860144\n",
        "Freq: Q-DEC, dtype: float64\n"
       ]
      }
     ],
     "prompt_number": 5
    },
    {
     "cell_type": "code",
     "collapsed": false,
     "input": [],
     "language": "python",
     "metadata": {},
     "outputs": []
    }
   ],
   "metadata": {}
  }
 ]
}