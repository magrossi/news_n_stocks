{
 "metadata": {
  "name": "",
  "signature": "sha256:7db6535c38970b25e3d69f7cda44c9df788f3149cffb615c7d68fea30e92139e"
 },
 "nbformat": 3,
 "nbformat_minor": 0,
 "worksheets": [
  {
   "cells": [
    {
     "cell_type": "heading",
     "level": 1,
     "metadata": {},
     "source": [
      "News n' Stocks"
     ]
    },
    {
     "cell_type": "markdown",
     "metadata": {},
     "source": [
      "Testing prediction power of news articles terms against stock prices."
     ]
    },
    {
     "cell_type": "markdown",
     "metadata": {},
     "source": [
      "Connect to Mongo server."
     ]
    },
    {
     "cell_type": "code",
     "collapsed": false,
     "input": [
      "%matplotlib inline\n",
      "from pymongo import MongoClient\n",
      "client = MongoClient('mongodb://localhost:27017/')\n",
      "db = client['news2']"
     ],
     "language": "python",
     "metadata": {},
     "outputs": [],
     "prompt_number": 35
    },
    {
     "cell_type": "markdown",
     "metadata": {},
     "source": [
      "Find entire range of daily summaries available."
     ]
    },
    {
     "cell_type": "code",
     "collapsed": false,
     "input": [
      "period_summaries = db['period_summary']\n",
      "query = period_summaries.aggregate([{\n",
      "      '$group': {\n",
      "        '_id': 'date_range',\n",
      "        'min_date': { '$min': '$period_start' },\n",
      "        'max_date': { '$max': '$period_end' }\n",
      "      }\n",
      "    }]).next()"
     ],
     "language": "python",
     "metadata": {},
     "outputs": [],
     "prompt_number": 36
    },
    {
     "cell_type": "code",
     "collapsed": false,
     "input": [
      "start_date = query['min_date']\n",
      "end_date = query['max_date']\n",
      "print start_date, end_date, end_date - start_date"
     ],
     "language": "python",
     "metadata": {},
     "outputs": [
      {
       "output_type": "stream",
       "stream": "stdout",
       "text": [
        "2013-01-01 00:00:00 2014-10-19 00:00:00 656 days, 0:00:00\n"
       ]
      }
     ],
     "prompt_number": 37
    },
    {
     "cell_type": "markdown",
     "metadata": {},
     "source": [
      "Save some of the dates to use as validation."
     ]
    },
    {
     "cell_type": "code",
     "collapsed": false,
     "input": [
      "base_date = (start_date + (end_date - start_date) * 9/10).replace(hour=0, minute=0, second=0, microsecond=0)\n",
      "print base_date"
     ],
     "language": "python",
     "metadata": {},
     "outputs": [
      {
       "output_type": "stream",
       "stream": "stdout",
       "text": [
        "2014-08-14 00:00:00\n"
       ]
      }
     ],
     "prompt_number": 38
    },
    {
     "cell_type": "code",
     "collapsed": false,
     "input": [
      "import datetime\n",
      "test_dates = [base_date + datetime.timedelta(days=x) for x in range(0, (end_date - base_date).days + 1)]\n",
      "print test_dates[0], test_dates[len(test_dates)-1], len(test_dates)"
     ],
     "language": "python",
     "metadata": {},
     "outputs": [
      {
       "output_type": "stream",
       "stream": "stdout",
       "text": [
        "2014-08-14 00:00:00 2014-10-19 00:00:00 67\n"
       ]
      }
     ],
     "prompt_number": 39
    },
    {
     "cell_type": "markdown",
     "metadata": {},
     "source": [
      "Get list of stock quotes from Yahoo!"
     ]
    },
    {
     "cell_type": "code",
     "collapsed": false,
     "input": [
      "from stock_downloader import download_stock_history\n",
      "\n",
      "stock_list = ['IBM', 'XOM', 'CVX', 'PG', 'MMM', 'JNJ', 'MCD', 'WMT', 'UTX', 'KO', 'BA', 'CAT', 'JPM', 'HPQ', 'VZ', 'T', 'DD',\n",
      "              'MRK', 'DIS', 'HD', 'MSFT', 'AXP', 'BAC', 'PFE', 'GE', 'INTC', 'AA', 'C', 'GM']\n",
      "\n",
      "stock_data_panel = download_stock_history(start_date - datetime.timedelta(days=10), end_date + datetime.timedelta(days=1), stock_list, source='yahoo')\n",
      "print stock_data_panel"
     ],
     "language": "python",
     "metadata": {},
     "outputs": [
      {
       "output_type": "stream",
       "stream": "stdout",
       "text": [
        "<class 'pandas.core.panel.Panel'>\n",
        "Dimensions: 6 (items) x 459 (major_axis) x 29 (minor_axis)\n",
        "Items axis: Open to Adj Close\n",
        "Major_axis axis: 2012-12-24 00:00:00 to 2014-10-20 00:00:00\n",
        "Minor_axis axis: AA to XOM\n"
       ]
      }
     ],
     "prompt_number": 40
    },
    {
     "cell_type": "markdown",
     "metadata": {},
     "source": [
      "Re-index our data to extend to all possible days (even those with no trading day), interpolate missing days values and get pandas DataFrame with just the 'Close' price of the stocks."
     ]
    },
    {
     "cell_type": "code",
     "collapsed": false,
     "input": [
      "import pandas as pd\n",
      "date_index = pd.DatetimeIndex(start=start_date, end=end_date + datetime.timedelta(days=1), freq='D')\n",
      "stock_data_panel = stock_data_panel.reindex(major_axis=date_index)\n",
      "stock_data = stock_data_panel['Close'].interpolate().dropna()\n",
      "print stock_data.head()"
     ],
     "language": "python",
     "metadata": {},
     "outputs": [
      {
       "output_type": "stream",
       "stream": "stdout",
       "text": [
        "                  AA        AXP         BA        BAC          C        CAT  \\\n",
        "2013-01-02  8.990000  58.750000  77.070000  12.030000  41.250000  93.500000   \n",
        "2013-01-03  9.070000  59.000000  77.470001  11.960000  41.389999  94.400002   \n",
        "2013-01-04  9.260000  59.610001  77.690002  12.110000  42.430000  94.919998   \n",
        "2013-01-05  9.206667  59.693334  77.170000  12.103333  42.443334  95.016665   \n",
        "2013-01-06  9.153333  59.776668  76.649999  12.096667  42.456667  95.113332   \n",
        "\n",
        "                   CVX         DD        DIS         GE    ...            MMM  \\\n",
        "2013-01-02  110.389999  45.869998  51.099998  21.340000    ...      94.779999   \n",
        "2013-01-03  109.919998  45.290001  51.209999  21.100000    ...      94.669998   \n",
        "2013-01-04  110.500000  45.729998  52.189999  21.200001    ...      95.370003   \n",
        "2013-01-05  110.250000  45.753332  51.783333  21.176667    ...      95.410001   \n",
        "2013-01-06  110.000000  45.776666  51.376667  21.153333    ...      95.450000   \n",
        "\n",
        "                  MRK       MSFT        PFE         PG          T        UTX  \\\n",
        "2013-01-02  41.340000  27.620001  25.910000  69.389999  35.000000  84.000000   \n",
        "2013-01-03  42.330002  27.250000  25.850000  68.949997  35.020000  84.309998   \n",
        "2013-01-04  41.970001  26.740000  25.959999  69.089996  35.230000  84.980003   \n",
        "2013-01-05  42.020000  26.723334  25.966666  68.933332  35.283333  84.843335   \n",
        "2013-01-06  42.070000  26.706667  25.973333  68.776667  35.336666  84.706668   \n",
        "\n",
        "                   VZ        WMT        XOM  \n",
        "2013-01-02  44.270000  69.239998  88.709999  \n",
        "2013-01-03  44.060001  68.800003  88.550003  \n",
        "2013-01-04  44.299999  69.059998  88.959999  \n",
        "2013-01-05  44.429999  68.839999  88.616666  \n",
        "2013-01-06  44.559999  68.620001  88.273333  \n",
        "\n",
        "[5 rows x 29 columns]\n"
       ]
      }
     ],
     "prompt_number": 41
    },
    {
     "cell_type": "markdown",
     "metadata": {},
     "source": [
      "Get top 1,000 most relevant terms from base_date and try to correlate to stock prices via granger test."
     ]
    },
    {
     "cell_type": "code",
     "collapsed": false,
     "input": [
      "daily_summary = period_summaries.find_one({\n",
      "        'period_type' : { '$eq' : 'daily' },\n",
      "        'period_end' : { '$eq' : base_date }\n",
      "    })\n",
      "yearly_summary = period_summaries.find_one({\n",
      "        'period_type' : { '$eq' : 'yearly' },\n",
      "        'period_end' : { '$eq' : base_date }\n",
      "    })\n",
      "print daily_summary['total_docs'], daily_summary['total_terms'], len(daily_summary['term_counts'])\n",
      "print yearly_summary['total_docs'], yearly_summary['total_terms'], len(yearly_summary['term_counts'])"
     ],
     "language": "python",
     "metadata": {},
     "outputs": [
      {
       "output_type": "stream",
       "stream": "stdout",
       "text": [
        "92.0 34095.0 1000\n",
        "26815.0 10485105.0 1000\n"
       ]
      }
     ],
     "prompt_number": 42
    },
    {
     "cell_type": "markdown",
     "metadata": {},
     "source": [
      "Find daily relevant terms and intersect with yearly terms to see if daily terms are most likely noise from a higher time frame."
     ]
    },
    {
     "cell_type": "code",
     "collapsed": false,
     "input": [
      "daily_relevant_terms = map(lambda x : x[0], daily_summary['term_counts'])\n",
      "#yearly_relevant_terms = map(lambda x : x[0], yearly_summary['term_counts'])\n",
      "print daily_relevant_terms[:10]\n",
      "#print yearly_relevant_terms[:10]\n",
      "#print len(list(set(daily_relevant_terms).intersection(yearly_relevant_terms)))\n",
      "#print list(set(daily_relevant_terms).difference(yearly_relevant_terms))"
     ],
     "language": "python",
     "metadata": {},
     "outputs": [
      {
       "output_type": "stream",
       "stream": "stdout",
       "text": [
        "[u'police', u'bank', u'bitcoin', u'company', u'energy', u'market', u'ferguson', u'percent', u'military', u'maliki']\n"
       ]
      }
     ],
     "prompt_number": 43
    },
    {
     "cell_type": "code",
     "collapsed": false,
     "input": [
      "from statsmodels.tsa.stattools import grangercausalitytests, adfuller\n",
      "from statsmodels.api import OLS\n",
      "import numpy as np\n",
      "\n",
      "# Cointegration is a statistical property of a collection (X1,X2,...,Xk) of time series variables.\n",
      "# First, all of the series must be integrated of order 1 (see Order of Integration).\n",
      "# Next, if a linear combination of this collection is integrated of order zero,\n",
      "# then the collection is said to be co-integrated.\n",
      "def are_cointegrated(x, y):\n",
      "    # Step 1: regress one variable on the other\n",
      "    ols_result = OLS(x, y).fit()\n",
      "    # Step 2: obtain the residual\n",
      "    (ols_result.resid)\n",
      "    # Step 3: apply Augmented Dickey-Fuller test to see whether the residual is unit root\n",
      "    # if residuals are stationary, then there is cointegration between x, y (reject NULL)\n",
      "    test_stat, p_value, lag, nobs, crit_values, aic_lag = adfuller(ols_result.resid)\n",
      "    return test_stat < crit_values['5%']"
     ],
     "language": "python",
     "metadata": {},
     "outputs": [],
     "prompt_number": 44
    },
    {
     "cell_type": "code",
     "collapsed": false,
     "input": [
      "daily_summaries = db['daily_summary']\n",
      "from news_calc_term_ts import get_tfidf_ts\n",
      "term = daily_relevant_terms[0]\n",
      "one_term_ts = get_tfidf_ts(daily_summaries, [term], {})\n",
      "one_term_ts"
     ],
     "language": "python",
     "metadata": {},
     "outputs": [
      {
       "metadata": {},
       "output_type": "pyout",
       "prompt_number": 45,
       "text": [
        "<class 'pandas.core.panel.Panel'>\n",
        "Dimensions: 1 (items) x 657 (major_axis) x 3 (minor_axis)\n",
        "Items axis: police to police\n",
        "Major_axis axis: 2013-01-01 00:00:00 to 2014-10-19 00:00:00\n",
        "Minor_axis axis: Count to TF-IDF Score"
       ]
      }
     ],
     "prompt_number": 45
    },
    {
     "cell_type": "code",
     "collapsed": false,
     "input": [
      "from kpss import kpssTest\n",
      "import matplotlib, matplotlib.pyplot as plt\n",
      "matplotlib.style.use('ggplot')"
     ],
     "language": "python",
     "metadata": {},
     "outputs": [],
     "prompt_number": 46
    },
    {
     "cell_type": "code",
     "collapsed": false,
     "input": [
      "term_df = one_term_ts[one_term_ts.items[0]]['TF-IDF Score']\n",
      "stock_df = stock_data[['AA']]['AA']\n",
      "term_df.plot()\n",
      "plt.legend(['bank'], loc='upper left')\n",
      "plt.show()\n",
      "stock_df.plot()\n",
      "plt.legend(['AA'], loc='upper left')\n",
      "plt.show()"
     ],
     "language": "python",
     "metadata": {},
     "outputs": [
      {
       "metadata": {},
       "output_type": "display_data",
       "png": "[encoded data removed]",
       "text": [
        "<matplotlib.figure.Figure at 0x12bad030>"
       ]
      },
      {
       "metadata": {},
       "output_type": "display_data",
       "png": "[encoded data removed]",
       "text": [
        "<matplotlib.figure.Figure at 0x12a9c270>"
       ]
      }
     ],
     "prompt_number": 47
    },
    {
     "cell_type": "code",
     "collapsed": false,
     "input": [],
     "language": "python",
     "metadata": {},
     "outputs": [],
     "prompt_number": 47
    },
    {
     "cell_type": "code",
     "collapsed": false,
     "input": [
      "def difference(ts, n=1):\n",
      "    return (ts - ts.shift(n)).dropna()\n",
      "\n",
      "def is_stationary(kpss_result, alpha=0.05):\n",
      "    return kpss_result[1] > alpha\n",
      "\n",
      "def find_diff_stationary(df, max_diff=5):\n",
      "    i = 0\n",
      "    while i < max_diff:\n",
      "        if is_stationary(kpssTest(np.asarray(df), verbose=False)):\n",
      "            return (i, df, True)\n",
      "        else:\n",
      "            df = difference(df)\n",
      "        i += 1\n",
      "    return (i, df, False)   \n",
      "    "
     ],
     "language": "python",
     "metadata": {},
     "outputs": [],
     "prompt_number": 48
    },
    {
     "cell_type": "code",
     "collapsed": false,
     "input": [
      "term_diff_level, new_df, converged = find_diff_stationary(term_df)\n",
      "term_df_diff = new_df\n",
      "term_df_diff.plot()\n",
      "plt.legend(['bank: Diff('+str(term_diff_level)+')'], loc='upper left')\n",
      "plt.show()\n",
      "\n",
      "diff_level, new_df, converged = find_diff_stationary(stock_df)\n",
      "stock_df_diff = new_df\n",
      "stock_df_diff.plot()\n",
      "plt.legend(['AA: Diff('+str(diff_level)+')'], loc='upper left')\n",
      "plt.show()"
     ],
     "language": "python",
     "metadata": {},
     "outputs": [
      {
       "metadata": {},
       "output_type": "display_data",
       "png": "[encoded data removed]",
       "text": [
        "<matplotlib.figure.Figure at 0x12348270>"
       ]
      },
      {
       "metadata": {},
       "output_type": "display_data",
       "png": "[encoded data removed]",
       "text": [
        "<matplotlib.figure.Figure at 0x1234bb10>"
       ]
      }
     ],
     "prompt_number": 49
    },
    {
     "cell_type": "code",
     "collapsed": false,
     "input": [
      "def align_dataframes(df1, df2):\n",
      "    df1a, df2a = df1.align(df2)\n",
      "    df1a.dropna(inplace=True)\n",
      "    df2a.dropna(inplace=True)\n",
      "    df1a = df1a[df1a.index.isin(df2a.index)].dropna()\n",
      "    df2a = df2a[df2a.index.isin(df1a.index)].dropna()\n",
      "    return df1a, df2a\n",
      "#term_df_aligned, stock_df_aligned = term_df.align(stock_df)\n",
      "#term_df_aligned = term_df_aligned.dropna()\n",
      "#stock_df_aligned = stock_df_aligned.dropna()\n",
      "#pd.Panel([term_df_aligned, stock_df_aligned])\n",
      "#term_df_aligned\n",
      "#stock_df_aligned = stock_df_aligned[~stock_df_aligned.isin(term_df_aligned)].dropna()\n",
      "#term_df_aligned = term_df_aligned[~term_df_aligned.isin(stock_df_aligned)].dropna()\n",
      "#term_df_aligned = term_df_aligned[term_df_aligned.index.isin(stock_df_aligned.index)].dropna()\n",
      "#stock_df_aligned = stock_df_aligned[stock_df_aligned.index.isin(term_df_aligned.index)].dropna()\n",
      "#stock_df_aligned\n",
      "term_df_aligned, stock_df_aligned = align_dataframes(term_df, stock_df)\n",
      "are_cointegrated(term_df_aligned, stock_df_aligned)"
     ],
     "language": "python",
     "metadata": {},
     "outputs": [
      {
       "metadata": {},
       "output_type": "pyout",
       "prompt_number": 50,
       "text": [
        "True"
       ]
      }
     ],
     "prompt_number": 50
    },
    {
     "cell_type": "code",
     "collapsed": false,
     "input": [
      "def is_granger_caused(test_results, alpha=0.05):\n",
      "    for lag, r in test_results.iteritems():\n",
      "        p_values = [r[0]['lrtest'][1], r[0]['params_ftest'][1], r[0]['ssr_ftest'][1], r[0]['ssr_chi2test'][1]]\n",
      "        if all(p_value < alpha for p_value in p_values):\n",
      "            return (lag, True)\n",
      "    return (len(test_results), False)\n",
      "\n",
      "def find_granger_causality(x1_df, x2_df, max_lags=5):\n",
      "    data = pd.concat([x1_df, x2_df], axis=1).dropna()\n",
      "    lag_1_2, causes_1_2 = is_granger_caused(grangercausalitytests(data[[0, 1]], max_lags, verbose=False)) # x1 causes x2\n",
      "    lag_2_1, causes_2_1 = is_granger_caused(grangercausalitytests(data[[1, 0]], max_lags, verbose=False)) # x2 causes x1\n",
      "    # x2 only granger-causes x1 if, and only if, x1 does NOT cause x2 and x2 CAUSES x1\n",
      "    return (lag_2_1, True if causes_2_1 and not causes_1_2 else False)"
     ],
     "language": "python",
     "metadata": {},
     "outputs": [],
     "prompt_number": 51
    },
    {
     "cell_type": "markdown",
     "metadata": {},
     "source": [
      "Find granger causality between term time series and stock time series.\n",
      "Term time series (tts) only Granger-causes stock time series (sts) if tts causes sts and sts does not cause tts.\n",
      "The test is performed up to 5 lags and the result is (smallest lag found, Granger-causes result)."
     ]
    },
    {
     "cell_type": "code",
     "collapsed": false,
     "input": [
      "find_granger_causality(stock_df_diff, term_df_diff, max_lags=5)"
     ],
     "language": "python",
     "metadata": {},
     "outputs": [
      {
       "metadata": {},
       "output_type": "pyout",
       "prompt_number": 52,
       "text": [
        "(5, False)"
       ]
      }
     ],
     "prompt_number": 52
    },
    {
     "cell_type": "code",
     "collapsed": false,
     "input": [
      "def get_stocks_caused_by(df, df_diff, df_diff_level, stocks):\n",
      "    # now do granger tests for all stocks\n",
      "    caused_symbols = []\n",
      "    for symbol in stocks.columns:\n",
      "        stock_df = stocks[[symbol]][symbol]\n",
      "        diff_level, stock_df_diff, converged = find_diff_stationary(stock_df)\n",
      "        if converged:\n",
      "            # check if integrated of the same order, if so test for cointegration\n",
      "            df_align, stock_df_align = align_dataframes(df, stock_df)\n",
      "            if df_diff_level == diff_level and are_cointegrated(df_align, stock_df_align):\n",
      "                lag, caused = find_granger_causality(stock_df_diff, df, max_lags=3)\n",
      "                if caused:\n",
      "                    caused_symbols.append((symbol, lag))\n",
      "            #else:\n",
      "                #print 'Symbol %s has different order of integration or is not cointegrated. Skipping.' % symbol\n",
      "            #else:\n",
      "               #print 'Symbol %s did not converge. Skipping.' % symbol\n",
      "    return caused_symbols\n",
      "\n",
      "#(term, get_stocks_caused_by(term_df, stock_data, difference=False))\n",
      "(term, get_stocks_caused_by(term_df, term_df_diff, term_diff_level, stock_data))"
     ],
     "language": "python",
     "metadata": {},
     "outputs": [
      {
       "metadata": {},
       "output_type": "pyout",
       "prompt_number": 53,
       "text": [
        "(u'police', [('BA', 2)])"
       ]
      }
     ],
     "prompt_number": 53
    },
    {
     "cell_type": "code",
     "collapsed": false,
     "input": [
      "relevant_terms = daily_relevant_terms[:100]\n",
      "# now for all the terms x stocks\n",
      "terms_panel = get_tfidf_ts(daily_summaries, relevant_terms, {})\n",
      "terms_panel = terms_panel.reindex(major_axis=date_index, fill_value=0)\n",
      "terms_panel"
     ],
     "language": "python",
     "metadata": {},
     "outputs": [
      {
       "metadata": {},
       "output_type": "pyout",
       "prompt_number": 56,
       "text": [
        "<class 'pandas.core.panel.Panel'>\n",
        "Dimensions: 100 (items) x 658 (major_axis) x 3 (minor_axis)\n",
        "Items axis: american to yield\n",
        "Major_axis axis: 2013-01-01 00:00:00 to 2014-10-20 00:00:00\n",
        "Minor_axis axis: Count to TF-IDF Score"
       ]
      }
     ],
     "prompt_number": 56
    },
    {
     "cell_type": "code",
     "collapsed": false,
     "input": [
      "terms = {}\n",
      "for term in relevant_terms:\n",
      "    term_df = terms_panel[term]['TF-IDF Score']\n",
      "    try:\n",
      "        # non-differenced data\n",
      "#         if len(stocks) > 0:\n",
      "#             terms[term] = stocks\n",
      "        # differenced data\n",
      "        diff_level, term_df_diff, converged = find_diff_stationary(term_df)\n",
      "        if converged:\n",
      "            stocks = get_stocks_caused_by(term_df, term_df_diff, diff_level, stock_data)\n",
      "            if len(stocks) > 0:\n",
      "                terms[term] = stocks\n",
      "        else:\n",
      "            print 'Term %s did not converge. Skipping.' % term\n",
      "    except Exception as error:\n",
      "        print 'Error trying to process term %s. Error: %s' % (term, error)\n",
      "terms"
     ],
     "language": "python",
     "metadata": {},
     "outputs": [
      {
       "output_type": "stream",
       "stream": "stdout",
       "text": [
        "Error trying to process term unit holder. Error: zero-size array to reduction operation maximum which has no identity\n",
        "Error trying to process term firefly. Error: zero-size array to reduction operation maximum which has no identity"
       ]
      },
      {
       "output_type": "stream",
       "stream": "stdout",
       "text": [
        "\n"
       ]
      },
      {
       "metadata": {},
       "output_type": "pyout",
       "prompt_number": 57,
       "text": [
        "{u'bank': [('CVX', 1), ('PG', 1)],\n",
        " u'beijing': [('AA', 2)],\n",
        " u'billion': [('MCD', 1), ('PG', 1)],\n",
        " u'bitcoin': [('AXP', 2), ('HPQ', 1), ('MCD', 2), ('PG', 3)],\n",
        " u'black': [('HD', 2), ('INTC', 1)],\n",
        " u'board': [('CAT', 1), ('MCD', 1)],\n",
        " u'bond': [('JNJ', 2)],\n",
        " u'chinese': [('VZ', 3)],\n",
        " u'church': [('VZ', 1)],\n",
        " u'company': [('T', 3)],\n",
        " u'compound': [('CAT', 1), ('UTX', 2)],\n",
        " u'congestion': [('JPM', 3), ('PG', 3)],\n",
        " u'contract': [('BAC', 1), ('HD', 1), ('MRK', 1)],\n",
        " u'convoy': [('HPQ', 1), ('INTC', 2)],\n",
        " u'could': [('T', 2), ('VZ', 2)],\n",
        " u'country': [('GE', 3), ('MCD', 1), ('PG', 1)],\n",
        " u'drug': [('AXP', 2), ('BAC', 2), ('C', 2), ('JPM', 2), ('WMT', 2)],\n",
        " u'energy': [('INTC', 1), ('PG', 2), ('T', 1)],\n",
        " u'financial': [('IBM', 1), ('PG', 3), ('VZ', 2)],\n",
        " u'firm': [('CAT', 1), ('XOM', 3)],\n",
        " u'fund': [('BAC', 2), ('C', 2), ('HD', 1), ('KO', 1)],\n",
        " u'government': [('GM', 3)],\n",
        " u'group': [('T', 2), ('WMT', 1)],\n",
        " u'hedge': [('AXP', 1), ('DD', 2), ('HD', 2)],\n",
        " u'high yield': [('VZ', 2)],\n",
        " u'hispanic': [('MMM', 3), ('PG', 1), ('XOM', 3)],\n",
        " u'holder': [('DD', 1),\n",
        "  ('GM', 1),\n",
        "  ('INTC', 1),\n",
        "  ('JPM', 1),\n",
        "  ('UTX', 1),\n",
        "  ('WMT', 2)],\n",
        " u'ingredient': [('HPQ', 1)],\n",
        " u'investor': [('DD', 1), ('DIS', 2)],\n",
        " u'iraq': [('CVX', 3),\n",
        "  ('DD', 2),\n",
        "  ('DIS', 2),\n",
        "  ('MCD', 2),\n",
        "  ('T', 2),\n",
        "  ('UTX', 2),\n",
        "  ('WMT', 1),\n",
        "  ('XOM', 3)],\n",
        " u'israeli': [('GE', 2)],\n",
        " u'jiang': [('KO', 1), ('T', 3)],\n",
        " u'loan': [('AA', 1), ('INTC', 3), ('MRK', 2), ('MSFT', 3)],\n",
        " u'louis': [('INTC', 2), ('KO', 1), ('MMM', 3)],\n",
        " u'maliki': [('CVX', 3), ('KO', 3)],\n",
        " u'market': [('WMT', 3)],\n",
        " u'medicine': [('AXP', 2),\n",
        "  ('DIS', 2),\n",
        "  ('GE', 2),\n",
        "  ('HPQ', 3),\n",
        "  ('JNJ', 1),\n",
        "  ('MCD', 2),\n",
        "  ('T', 2),\n",
        "  ('UTX', 2),\n",
        "  ('VZ', 2),\n",
        "  ('WMT', 2)],\n",
        " u'million': [('MCD', 1), ('PG', 1), ('WMT', 1)],\n",
        " u'money': [('CVX', 3), ('IBM', 3), ('KO', 3)],\n",
        " u'news': [('VZ', 2)],\n",
        " u'officer': [('BAC', 1), ('C', 1), ('JPM', 1), ('KO', 3)],\n",
        " u'percent': [('PG', 1), ('T', 3), ('VZ', 2), ('WMT', 3)],\n",
        " u'police': [('BA', 2)],\n",
        " u'political': [('PFE', 1)],\n",
        " u'power': [('C', 2), ('GM', 1), ('VZ', 3)],\n",
        " u'profit': [('DD', 1), ('UTX', 2), ('VZ', 2)],\n",
        " u'protest': [('JNJ', 2), ('PG', 1), ('VZ', 2), ('WMT', 1)],\n",
        " u'protester': [('BAC', 1), ('HPQ', 1), ('INTC', 1), ('VZ', 1)],\n",
        " u'quarter': [('C', 2),\n",
        "  ('CAT', 1),\n",
        "  ('INTC', 2),\n",
        "  ('JNJ', 2),\n",
        "  ('MRK', 2),\n",
        "  ('PFE', 2)],\n",
        " u'right': [('VZ', 2)],\n",
        " u'rule': [('CVX', 2), ('GE', 1), ('HD', 2), ('UTX', 1)],\n",
        " u'russian': [('WMT', 2)],\n",
        " u'sale': [('PFE', 2), ('PG', 1), ('VZ', 3), ('XOM', 1)],\n",
        " u'share': [('UTX', 2), ('VZ', 2), ('WMT', 3)],\n",
        " u'stake': [('PG', 1)],\n",
        " u'stock': [('DIS', 1), ('HD', 1), ('PG', 1), ('WMT', 3)],\n",
        " u'texas': [('MCD', 3)],\n",
        " u'thursday': [('HD', 2), ('JNJ', 2), ('KO', 2), ('WMT', 1)],\n",
        " u'unit': [('T', 1), ('VZ', 1)],\n",
        " u'veterinary': [('PG', 1), ('UTX', 3), ('XOM', 3)],\n",
        " u'would': [('WMT', 2)],\n",
        " u'write': [('C', 2), ('IBM', 2), ('PG', 1), ('WMT', 2)],\n",
        " u'year': [('PG', 2), ('UTX', 2), ('VZ', 2)],\n",
        " u'yield': [('GM', 1), ('MRK', 2)]}"
       ]
      }
     ],
     "prompt_number": 57
    },
    {
     "cell_type": "code",
     "collapsed": false,
     "input": [
      "stock_terms = {}\n",
      "for term, stocks in terms.iteritems():\n",
      "    for stock in stocks:\n",
      "        if stock in stock_terms:\n",
      "            stock_terms[stock].add(term)\n",
      "        else:\n",
      "            stock_terms[stock] = set([term])\n",
      "stock_terms"
     ],
     "language": "python",
     "metadata": {},
     "outputs": [
      {
       "metadata": {},
       "output_type": "pyout",
       "prompt_number": 58,
       "text": [
        "{('AA', 1): {u'loan'},\n",
        " ('AA', 2): {u'beijing'},\n",
        " ('AXP', 1): {u'hedge'},\n",
        " ('AXP', 2): {u'bitcoin', u'drug', u'medicine'},\n",
        " ('BA', 2): {u'police'},\n",
        " ('BAC', 1): {u'contract', u'officer', u'protester'},\n",
        " ('BAC', 2): {u'drug', u'fund'},\n",
        " ('C', 1): {u'officer'},\n",
        " ('C', 2): {u'drug', u'fund', u'power', u'quarter', u'write'},\n",
        " ('CAT', 1): {u'board', u'compound', u'firm', u'quarter'},\n",
        " ('CVX', 1): {u'bank'},\n",
        " ('CVX', 2): {u'rule'},\n",
        " ('CVX', 3): {u'iraq', u'maliki', u'money'},\n",
        " ('DD', 1): {u'holder', u'investor', u'profit'},\n",
        " ('DD', 2): {u'hedge', u'iraq'},\n",
        " ('DIS', 1): {u'stock'},\n",
        " ('DIS', 2): {u'investor', u'iraq', u'medicine'},\n",
        " ('GE', 1): {u'rule'},\n",
        " ('GE', 2): {u'israeli', u'medicine'},\n",
        " ('GE', 3): {u'country'},\n",
        " ('GM', 1): {u'holder', u'power', u'yield'},\n",
        " ('GM', 3): {u'government'},\n",
        " ('HD', 1): {u'contract', u'fund', u'stock'},\n",
        " ('HD', 2): {u'black', u'hedge', u'rule', u'thursday'},\n",
        " ('HPQ', 1): {u'bitcoin', u'convoy', u'ingredient', u'protester'},\n",
        " ('HPQ', 3): {u'medicine'},\n",
        " ('IBM', 1): {u'financial'},\n",
        " ('IBM', 2): {u'write'},\n",
        " ('IBM', 3): {u'money'},\n",
        " ('INTC', 1): {u'black', u'energy', u'holder', u'protester'},\n",
        " ('INTC', 2): {u'convoy', u'louis', u'quarter'},\n",
        " ('INTC', 3): {u'loan'},\n",
        " ('JNJ', 1): {u'medicine'},\n",
        " ('JNJ', 2): {u'bond', u'protest', u'quarter', u'thursday'},\n",
        " ('JPM', 1): {u'holder', u'officer'},\n",
        " ('JPM', 2): {u'drug'},\n",
        " ('JPM', 3): {u'congestion'},\n",
        " ('KO', 1): {u'fund', u'jiang', u'louis'},\n",
        " ('KO', 2): {u'thursday'},\n",
        " ('KO', 3): {u'maliki', u'money', u'officer'},\n",
        " ('MCD', 1): {u'billion', u'board', u'country', u'million'},\n",
        " ('MCD', 2): {u'bitcoin', u'iraq', u'medicine'},\n",
        " ('MCD', 3): {u'texas'},\n",
        " ('MMM', 3): {u'hispanic', u'louis'},\n",
        " ('MRK', 1): {u'contract'},\n",
        " ('MRK', 2): {u'loan', u'quarter', u'yield'},\n",
        " ('MSFT', 3): {u'loan'},\n",
        " ('PFE', 1): {u'political'},\n",
        " ('PFE', 2): {u'quarter', u'sale'},\n",
        " ('PG', 1): {u'bank',\n",
        "  u'billion',\n",
        "  u'country',\n",
        "  u'hispanic',\n",
        "  u'million',\n",
        "  u'percent',\n",
        "  u'protest',\n",
        "  u'sale',\n",
        "  u'stake',\n",
        "  u'stock',\n",
        "  u'veterinary',\n",
        "  u'write'},\n",
        " ('PG', 2): {u'energy', u'year'},\n",
        " ('PG', 3): {u'bitcoin', u'congestion', u'financial'},\n",
        " ('T', 1): {u'energy', u'unit'},\n",
        " ('T', 2): {u'could', u'group', u'iraq', u'medicine'},\n",
        " ('T', 3): {u'company', u'jiang', u'percent'},\n",
        " ('UTX', 1): {u'holder', u'rule'},\n",
        " ('UTX', 2): {u'compound', u'iraq', u'medicine', u'profit', u'share', u'year'},\n",
        " ('UTX', 3): {u'veterinary'},\n",
        " ('VZ', 1): {u'church', u'protester', u'unit'},\n",
        " ('VZ', 2): {u'could',\n",
        "  u'financial',\n",
        "  u'high yield',\n",
        "  u'medicine',\n",
        "  u'news',\n",
        "  u'percent',\n",
        "  u'profit',\n",
        "  u'protest',\n",
        "  u'right',\n",
        "  u'share',\n",
        "  u'year'},\n",
        " ('VZ', 3): {u'chinese', u'power', u'sale'},\n",
        " ('WMT', 1): {u'group', u'iraq', u'million', u'protest', u'thursday'},\n",
        " ('WMT', 2): {u'drug', u'holder', u'medicine', u'russian', u'would', u'write'},\n",
        " ('WMT', 3): {u'market', u'percent', u'share', u'stock'},\n",
        " ('XOM', 1): {u'sale'},\n",
        " ('XOM', 3): {u'firm', u'hispanic', u'iraq', u'veterinary'}}"
       ]
      }
     ],
     "prompt_number": 58
    },
    {
     "cell_type": "code",
     "collapsed": false,
     "input": [
      "terror_ts = get_tfidf_ts(daily_summaries, ['terrorist', 'terrorist attack', 'terror'], {})\n"
     ],
     "language": "python",
     "metadata": {},
     "outputs": [],
     "prompt_number": 59
    },
    {
     "cell_type": "code",
     "collapsed": false,
     "input": [
      "from statsmodels.tsa.stattools import arma_order_select_ic\n"
     ],
     "language": "python",
     "metadata": {},
     "outputs": [],
     "prompt_number": 60
    },
    {
     "cell_type": "code",
     "collapsed": false,
     "input": [
      "#df = terror_ts['terror']['TF-IDF Score']\n",
      "#arma_order_select_ic(df)\n",
      "#(y, max_ar=4, max_ma=2, ic='bic', trend='c', model_kw={}, fit_kw={})\n"
     ],
     "language": "python",
     "metadata": {},
     "outputs": [
      {
       "output_type": "stream",
       "stream": "stderr",
       "text": [
        "C:\\Python27\\lib\\site-packages\\statsmodels\\base\\model.py:466: ConvergenceWarning: Maximum Likelihood optimization failed to converge. Check mle_retvals\n",
        "  \"Check mle_retvals\", ConvergenceWarning)\n"
       ]
      },
      {
       "ename": "IndexError",
       "evalue": "index 0 is out of bounds for axis 0 with size 0",
       "output_type": "pyerr",
       "traceback": [
        "\u001b[1;31m---------------------------------------------------------------------------\u001b[0m\n\u001b[1;31mIndexError\u001b[0m                                Traceback (most recent call last)",
        "\u001b[1;32m<ipython-input-61-2cd7bac34fd8>\u001b[0m in \u001b[0;36m<module>\u001b[1;34m()\u001b[0m\n\u001b[0;32m      1\u001b[0m \u001b[0mdf\u001b[0m \u001b[1;33m=\u001b[0m \u001b[0mterror_ts\u001b[0m\u001b[1;33m[\u001b[0m\u001b[1;34m'terror'\u001b[0m\u001b[1;33m]\u001b[0m\u001b[1;33m[\u001b[0m\u001b[1;34m'TF-IDF Score'\u001b[0m\u001b[1;33m]\u001b[0m\u001b[1;33m\u001b[0m\u001b[0m\n\u001b[1;32m----> 2\u001b[1;33m \u001b[0marma_order_select_ic\u001b[0m\u001b[1;33m(\u001b[0m\u001b[0mdf\u001b[0m\u001b[1;33m)\u001b[0m\u001b[1;33m\u001b[0m\u001b[0m\n\u001b[0m\u001b[0;32m      3\u001b[0m \u001b[1;31m#(y, max_ar=4, max_ma=2, ic='bic', trend='c', model_kw={}, fit_kw={})\u001b[0m\u001b[1;33m\u001b[0m\u001b[1;33m\u001b[0m\u001b[0m\n",
        "\u001b[1;32mC:\\Python27\\lib\\site-packages\\statsmodels\\tsa\\stattools.pyc\u001b[0m in \u001b[0;36marma_order_select_ic\u001b[1;34m(y, max_ar, max_ma, ic, trend, model_kw, fit_kw)\u001b[0m\n\u001b[0;32m   1050\u001b[0m     \u001b[1;32mfor\u001b[0m \u001b[0mi\u001b[0m\u001b[1;33m,\u001b[0m \u001b[0mresult\u001b[0m \u001b[1;32min\u001b[0m \u001b[0miteritems\u001b[0m\u001b[1;33m(\u001b[0m\u001b[0mres\u001b[0m\u001b[1;33m)\u001b[0m\u001b[1;33m:\u001b[0m\u001b[1;33m\u001b[0m\u001b[0m\n\u001b[0;32m   1051\u001b[0m         \u001b[0mmins\u001b[0m \u001b[1;33m=\u001b[0m \u001b[0mnp\u001b[0m\u001b[1;33m.\u001b[0m\u001b[0mwhere\u001b[0m\u001b[1;33m(\u001b[0m\u001b[0mresult\u001b[0m\u001b[1;33m.\u001b[0m\u001b[0mmin\u001b[0m\u001b[1;33m(\u001b[0m\u001b[1;33m)\u001b[0m\u001b[1;33m.\u001b[0m\u001b[0mmin\u001b[0m\u001b[1;33m(\u001b[0m\u001b[1;33m)\u001b[0m \u001b[1;33m==\u001b[0m \u001b[0mresult\u001b[0m\u001b[1;33m)\u001b[0m\u001b[1;33m\u001b[0m\u001b[0m\n\u001b[1;32m-> 1052\u001b[1;33m         \u001b[0mmin_res\u001b[0m\u001b[1;33m.\u001b[0m\u001b[0mupdate\u001b[0m\u001b[1;33m(\u001b[0m\u001b[1;33m{\u001b[0m\u001b[0mi\u001b[0m \u001b[1;33m+\u001b[0m \u001b[1;34m'_min_order'\u001b[0m \u001b[1;33m:\u001b[0m \u001b[1;33m(\u001b[0m\u001b[0mmins\u001b[0m\u001b[1;33m[\u001b[0m\u001b[1;36m0\u001b[0m\u001b[1;33m]\u001b[0m\u001b[1;33m[\u001b[0m\u001b[1;36m0\u001b[0m\u001b[1;33m]\u001b[0m\u001b[1;33m,\u001b[0m \u001b[0mmins\u001b[0m\u001b[1;33m[\u001b[0m\u001b[1;36m1\u001b[0m\u001b[1;33m]\u001b[0m\u001b[1;33m[\u001b[0m\u001b[1;36m0\u001b[0m\u001b[1;33m]\u001b[0m\u001b[1;33m)\u001b[0m\u001b[1;33m}\u001b[0m\u001b[1;33m)\u001b[0m\u001b[1;33m\u001b[0m\u001b[0m\n\u001b[0m\u001b[0;32m   1053\u001b[0m     \u001b[0mres\u001b[0m\u001b[1;33m.\u001b[0m\u001b[0mupdate\u001b[0m\u001b[1;33m(\u001b[0m\u001b[0mmin_res\u001b[0m\u001b[1;33m)\u001b[0m\u001b[1;33m\u001b[0m\u001b[0m\n\u001b[0;32m   1054\u001b[0m \u001b[1;33m\u001b[0m\u001b[0m\n",
        "\u001b[1;31mIndexError\u001b[0m: index 0 is out of bounds for axis 0 with size 0"
       ]
      }
     ],
     "prompt_number": 61
    },
    {
     "cell_type": "code",
     "collapsed": false,
     "input": [
      "terms_panel[term]['TF-IDF Score'].to_csv('D:/Study/DCU/MCM/Practicum/data/bank_ts.csv')\n",
      "stock_data['CVX'].to_csv('D:/Study/DCU/MCM/Practicum/data/stock_cvx_ts.csv') #'PG'"
     ],
     "language": "python",
     "metadata": {},
     "outputs": [],
     "prompt_number": 62
    },
    {
     "cell_type": "code",
     "collapsed": false,
     "input": [
      "terms_panel.to_pickle('D:/Study/DCU/MCM/Practicum/data/terms_panel.pkl')\n",
      "stock_data.to_pickle('D:/Study/DCU/MCM/Practicum/data/stock_panel.pkl')"
     ],
     "language": "python",
     "metadata": {},
     "outputs": [],
     "prompt_number": 63
    },
    {
     "cell_type": "code",
     "collapsed": false,
     "input": [
      "tp = pd.read_pickle('D:/Study/DCU/MCM/Practicum/data/terms_panel.pkl')\n",
      "sd = pd.read_pickle('D:/Study/DCU/MCM/Practicum/data/stock_panel.pkl')"
     ],
     "language": "python",
     "metadata": {},
     "outputs": [],
     "prompt_number": 64
    },
    {
     "cell_type": "code",
     "collapsed": false,
     "input": [
      "from sets import Set"
     ],
     "language": "python",
     "metadata": {},
     "outputs": [],
     "prompt_number": 70
    },
    {
     "cell_type": "code",
     "collapsed": false,
     "input": [
      "stock_nodes = list(Set(map(lambda (s,t): s[0], list(stock_terms.iteritems()))))\n",
      "term_nodes = list(reduce(lambda s1,s2: s1.union(s2), map(lambda (s,t): t, list(stock_terms.iteritems())), Set()))"
     ],
     "language": "python",
     "metadata": {},
     "outputs": [],
     "prompt_number": 97
    },
    {
     "cell_type": "code",
     "collapsed": false,
     "input": [
      "print map(lambda s: { 'group':'stock', 'name': s }, stock_nodes)\n",
      "print map(lambda t: { 'group':'term', 'name': t }, term_nodes)"
     ],
     "language": "python",
     "metadata": {},
     "outputs": [
      {
       "output_type": "stream",
       "stream": "stdout",
       "text": [
        "[{'group': 'stock', 'name': 'AXP'}, {'group': 'stock', 'name': 'IBM'}, {'group': 'stock', 'name': 'CVX'}, {'group': 'stock', 'name': 'DD'}, {'group': 'stock', 'name': 'BA'}, {'group': 'stock', 'name': 'CAT'}, {'group': 'stock', 'name': 'BAC'}, {'group': 'stock', 'name': 'UTX'}, {'group': 'stock', 'name': 'MSFT'}, {'group': 'stock', 'name': 'DIS'}, {'group': 'stock', 'name': 'PG'}, {'group': 'stock', 'name': 'HD'}, {'group': 'stock', 'name': 'AA'}, {'group': 'stock', 'name': 'C'}, {'group': 'stock', 'name': 'INTC'}, {'group': 'stock', 'name': 'VZ'}, {'group': 'stock', 'name': 'HPQ'}, {'group': 'stock', 'name': 'WMT'}, {'group': 'stock', 'name': 'GE'}, {'group': 'stock', 'name': 'T'}, {'group': 'stock', 'name': 'MRK'}, {'group': 'stock', 'name': 'PFE'}, {'group': 'stock', 'name': 'GM'}, {'group': 'stock', 'name': 'XOM'}, {'group': 'stock', 'name': 'JPM'}, {'group': 'stock', 'name': 'MCD'}, {'group': 'stock', 'name': 'KO'}, {'group': 'stock', 'name': 'MMM'}, {'group': 'stock', 'name': 'JNJ'}]\n",
        "[{'group': 'term', 'name': u'stake'}, {'group': 'term', 'name': u'convoy'}, {'group': 'term', 'name': u'chinese'}, {'group': 'term', 'name': u'money'}, {'group': 'term', 'name': u'loan'}, {'group': 'term', 'name': u'high yield'}, {'group': 'term', 'name': u'protest'}, {'group': 'term', 'name': u'church'}, {'group': 'term', 'name': u'market'}, {'group': 'term', 'name': u'police'}, {'group': 'term', 'name': u'would'}, {'group': 'term', 'name': u'investor'}, {'group': 'term', 'name': u'political'}, {'group': 'term', 'name': u'bitcoin'}, {'group': 'term', 'name': u'thursday'}, {'group': 'term', 'name': u'black'}, {'group': 'term', 'name': u'board'}, {'group': 'term', 'name': u'texas'}, {'group': 'term', 'name': u'ingredient'}, {'group': 'term', 'name': u'firm'}, {'group': 'term', 'name': u'government'}, {'group': 'term', 'name': u'company'}, {'group': 'term', 'name': u'fund'}, {'group': 'term', 'name': u'compound'}, {'group': 'term', 'name': u'russian'}, {'group': 'term', 'name': u'hedge'}, {'group': 'term', 'name': u'holder'}, {'group': 'term', 'name': u'bank'}, {'group': 'term', 'name': u'louis'}, {'group': 'term', 'name': u'yield'}, {'group': 'term', 'name': u'officer'}, {'group': 'term', 'name': u'quarter'}, {'group': 'term', 'name': u'bond'}, {'group': 'term', 'name': u'beijing'}, {'group': 'term', 'name': u'right'}, {'group': 'term', 'name': u'financial'}, {'group': 'term', 'name': u'energy'}, {'group': 'term', 'name': u'share'}, {'group': 'term', 'name': u'group'}, {'group': 'term', 'name': u'unit'}, {'group': 'term', 'name': u'rule'}, {'group': 'term', 'name': u'year'}, {'group': 'term', 'name': u'israeli'}, {'group': 'term', 'name': u'profit'}, {'group': 'term', 'name': u'veterinary'}, {'group': 'term', 'name': u'percent'}, {'group': 'term', 'name': u'write'}, {'group': 'term', 'name': u'protester'}, {'group': 'term', 'name': u'medicine'}, {'group': 'term', 'name': u'maliki'}, {'group': 'term', 'name': u'stock'}, {'group': 'term', 'name': u'power'}, {'group': 'term', 'name': u'million'}, {'group': 'term', 'name': u'drug'}, {'group': 'term', 'name': u'congestion'}, {'group': 'term', 'name': u'news'}, {'group': 'term', 'name': u'iraq'}, {'group': 'term', 'name': u'billion'}, {'group': 'term', 'name': u'jiang'}, {'group': 'term', 'name': u'country'}, {'group': 'term', 'name': u'could'}, {'group': 'term', 'name': u'sale'}, {'group': 'term', 'name': u'contract'}, {'group': 'term', 'name': u'hispanic'}]\n"
       ]
      }
     ],
     "prompt_number": 98
    },
    {
     "cell_type": "code",
     "collapsed": false,
     "input": [
      "# {source:index, target:index}\n",
      "def is_term_related_to(term, stock):\n",
      "    for i in [1,2,3]:\n",
      "        idx = (stock, i)\n",
      "        if idx in stock_terms and term in stock_terms[idx]:\n",
      "            return True\n",
      "    return False"
     ],
     "language": "python",
     "metadata": {},
     "outputs": [],
     "prompt_number": 101
    },
    {
     "cell_type": "code",
     "collapsed": false,
     "input": [
      "edges = []\n",
      "for i, s in enumerate(stock_nodes):\n",
      "    for j, t in enumerate(term_nodes):\n",
      "        if is_term_related_to(t, s):\n",
      "            edges.append({'source': j + len(stock_nodes), 'target': i})"
     ],
     "language": "python",
     "metadata": {},
     "outputs": [],
     "prompt_number": 104
    },
    {
     "cell_type": "code",
     "collapsed": false,
     "input": [
      "edges"
     ],
     "language": "python",
     "metadata": {},
     "outputs": [
      {
       "metadata": {},
       "output_type": "pyout",
       "prompt_number": 105,
       "text": [
        "[{'source': 42, 'target': 0},\n",
        " {'source': 54, 'target': 0},\n",
        " {'source': 77, 'target': 0},\n",
        " {'source': 82, 'target': 0},\n",
        " {'source': 32, 'target': 1},\n",
        " {'source': 64, 'target': 1},\n",
        " {'source': 75, 'target': 1},\n",
        " {'source': 32, 'target': 2},\n",
        " {'source': 56, 'target': 2},\n",
        " {'source': 69, 'target': 2},\n",
        " {'source': 78, 'target': 2},\n",
        " {'source': 85, 'target': 2},\n",
        " {'source': 40, 'target': 3},\n",
        " {'source': 54, 'target': 3},\n",
        " {'source': 55, 'target': 3},\n",
        " {'source': 72, 'target': 3},\n",
        " {'source': 85, 'target': 3},\n",
        " {'source': 38, 'target': 4},\n",
        " {'source': 45, 'target': 5},\n",
        " {'source': 48, 'target': 5},\n",
        " {'source': 52, 'target': 5},\n",
        " {'source': 60, 'target': 5},\n",
        " {'source': 51, 'target': 6},\n",
        " {'source': 59, 'target': 6},\n",
        " {'source': 76, 'target': 6},\n",
        " {'source': 82, 'target': 6},\n",
        " {'source': 91, 'target': 6},\n",
        " {'source': 52, 'target': 7},\n",
        " {'source': 55, 'target': 7},\n",
        " {'source': 66, 'target': 7},\n",
        " {'source': 69, 'target': 7},\n",
        " {'source': 70, 'target': 7},\n",
        " {'source': 72, 'target': 7},\n",
        " {'source': 73, 'target': 7},\n",
        " {'source': 77, 'target': 7},\n",
        " {'source': 85, 'target': 7},\n",
        " {'source': 33, 'target': 8},\n",
        " {'source': 40, 'target': 9},\n",
        " {'source': 77, 'target': 9},\n",
        " {'source': 79, 'target': 9},\n",
        " {'source': 85, 'target': 9},\n",
        " {'source': 29, 'target': 10},\n",
        " {'source': 35, 'target': 10},\n",
        " {'source': 42, 'target': 10},\n",
        " {'source': 56, 'target': 10},\n",
        " {'source': 64, 'target': 10},\n",
        " {'source': 65, 'target': 10},\n",
        " {'source': 70, 'target': 10},\n",
        " {'source': 73, 'target': 10},\n",
        " {'source': 74, 'target': 10},\n",
        " {'source': 75, 'target': 10},\n",
        " {'source': 79, 'target': 10},\n",
        " {'source': 81, 'target': 10},\n",
        " {'source': 83, 'target': 10},\n",
        " {'source': 86, 'target': 10},\n",
        " {'source': 88, 'target': 10},\n",
        " {'source': 90, 'target': 10},\n",
        " {'source': 92, 'target': 10},\n",
        " {'source': 43, 'target': 11},\n",
        " {'source': 44, 'target': 11},\n",
        " {'source': 51, 'target': 11},\n",
        " {'source': 54, 'target': 11},\n",
        " {'source': 69, 'target': 11},\n",
        " {'source': 79, 'target': 11},\n",
        " {'source': 91, 'target': 11},\n",
        " {'source': 33, 'target': 12},\n",
        " {'source': 62, 'target': 12},\n",
        " {'source': 51, 'target': 13},\n",
        " {'source': 59, 'target': 13},\n",
        " {'source': 60, 'target': 13},\n",
        " {'source': 75, 'target': 13},\n",
        " {'source': 80, 'target': 13},\n",
        " {'source': 82, 'target': 13},\n",
        " {'source': 30, 'target': 14},\n",
        " {'source': 33, 'target': 14},\n",
        " {'source': 44, 'target': 14},\n",
        " {'source': 55, 'target': 14},\n",
        " {'source': 57, 'target': 14},\n",
        " {'source': 60, 'target': 14},\n",
        " {'source': 65, 'target': 14},\n",
        " {'source': 76, 'target': 14},\n",
        " {'source': 31, 'target': 15},\n",
        " {'source': 34, 'target': 15},\n",
        " {'source': 35, 'target': 15},\n",
        " {'source': 36, 'target': 15},\n",
        " {'source': 63, 'target': 15},\n",
        " {'source': 64, 'target': 15},\n",
        " {'source': 66, 'target': 15},\n",
        " {'source': 68, 'target': 15},\n",
        " {'source': 70, 'target': 15},\n",
        " {'source': 72, 'target': 15},\n",
        " {'source': 74, 'target': 15},\n",
        " {'source': 76, 'target': 15},\n",
        " {'source': 77, 'target': 15},\n",
        " {'source': 80, 'target': 15},\n",
        " {'source': 84, 'target': 15},\n",
        " {'source': 89, 'target': 15},\n",
        " {'source': 90, 'target': 15},\n",
        " {'source': 30, 'target': 16},\n",
        " {'source': 42, 'target': 16},\n",
        " {'source': 47, 'target': 16},\n",
        " {'source': 76, 'target': 16},\n",
        " {'source': 77, 'target': 16},\n",
        " {'source': 35, 'target': 17},\n",
        " {'source': 37, 'target': 17},\n",
        " {'source': 39, 'target': 17},\n",
        " {'source': 43, 'target': 17},\n",
        " {'source': 53, 'target': 17},\n",
        " {'source': 55, 'target': 17},\n",
        " {'source': 66, 'target': 17},\n",
        " {'source': 67, 'target': 17},\n",
        " {'source': 74, 'target': 17},\n",
        " {'source': 75, 'target': 17},\n",
        " {'source': 77, 'target': 17},\n",
        " {'source': 79, 'target': 17},\n",
        " {'source': 81, 'target': 17},\n",
        " {'source': 82, 'target': 17},\n",
        " {'source': 85, 'target': 17},\n",
        " {'source': 69, 'target': 18},\n",
        " {'source': 71, 'target': 18},\n",
        " {'source': 77, 'target': 18},\n",
        " {'source': 88, 'target': 18},\n",
        " {'source': 50, 'target': 19},\n",
        " {'source': 65, 'target': 19},\n",
        " {'source': 67, 'target': 19},\n",
        " {'source': 68, 'target': 19},\n",
        " {'source': 74, 'target': 19},\n",
        " {'source': 77, 'target': 19},\n",
        " {'source': 85, 'target': 19},\n",
        " {'source': 87, 'target': 19},\n",
        " {'source': 89, 'target': 19},\n",
        " {'source': 33, 'target': 20},\n",
        " {'source': 58, 'target': 20},\n",
        " {'source': 60, 'target': 20},\n",
        " {'source': 91, 'target': 20},\n",
        " {'source': 41, 'target': 21},\n",
        " {'source': 60, 'target': 21},\n",
        " {'source': 90, 'target': 21},\n",
        " {'source': 49, 'target': 22},\n",
        " {'source': 55, 'target': 22},\n",
        " {'source': 58, 'target': 22},\n",
        " {'source': 80, 'target': 22},\n",
        " {'source': 48, 'target': 23},\n",
        " {'source': 73, 'target': 23},\n",
        " {'source': 85, 'target': 23},\n",
        " {'source': 90, 'target': 23},\n",
        " {'source': 92, 'target': 23},\n",
        " {'source': 55, 'target': 24},\n",
        " {'source': 59, 'target': 24},\n",
        " {'source': 82, 'target': 24},\n",
        " {'source': 83, 'target': 24},\n",
        " {'source': 42, 'target': 25},\n",
        " {'source': 45, 'target': 25},\n",
        " {'source': 46, 'target': 25},\n",
        " {'source': 77, 'target': 25},\n",
        " {'source': 81, 'target': 25},\n",
        " {'source': 85, 'target': 25},\n",
        " {'source': 86, 'target': 25},\n",
        " {'source': 88, 'target': 25},\n",
        " {'source': 32, 'target': 26},\n",
        " {'source': 43, 'target': 26},\n",
        " {'source': 51, 'target': 26},\n",
        " {'source': 57, 'target': 26},\n",
        " {'source': 59, 'target': 26},\n",
        " {'source': 78, 'target': 26},\n",
        " {'source': 87, 'target': 26},\n",
        " {'source': 57, 'target': 27},\n",
        " {'source': 92, 'target': 27},\n",
        " {'source': 35, 'target': 28},\n",
        " {'source': 43, 'target': 28},\n",
        " {'source': 60, 'target': 28},\n",
        " {'source': 61, 'target': 28},\n",
        " {'source': 77, 'target': 28}]"
       ]
      }
     ],
     "prompt_number": 105
    }
   ],
   "metadata": {}
  }
 ]
}